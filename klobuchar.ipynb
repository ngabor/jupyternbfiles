{
 "cells": [
  {
   "cell_type": "markdown",
   "metadata": {},
   "source": [
    "# Ionospheric correction by Klobuchar model\n",
    "\n",
    "The ionospheric effect is a part of atmospheric effect. The electomagnetic wave moves in a sparse and partly ionised gas in the higher layer of the atmosphere, which is called iononosphere. The ionospheric effect propotionate the count of free electrons along the way of the wave.\n",
    "\n",
    "The Klobuchar model estimates the ionospheric effect.\n",
    "\n",
    "## Input data\n",
    "\n",
    " - The GPS time (in seconds from midnight)\n",
    " - The coordinates of the user (receiver) (longitude and latitude in WGS84)\n",
    " - The direction of the satellite from the receiver (azimuth and elevation angle)\n",
    " - The ionospheric coefficients (from the navigation message)\n",
    " \n",
    "The Klobuchar model uses semicircles to measure the angles."
   ]
  },
  {
   "cell_type": "code",
   "execution_count": 7,
   "metadata": {},
   "outputs": [],
   "source": [
    "# functions from the math module\n",
    "from math import pi, sin, cos, copysign\n",
    "\n",
    "# input data - time\n",
    "hours=13\n",
    "minutes=42\n",
    "seconds=11.21456\n",
    "#input data - receiver pos\n",
    "user_lat_deg=47.1888\n",
    "user_lon_deg=18.4188\n",
    "#input data - satellite directon from the receiver\n",
    "elev_deg=78.2541\n",
    "az_deg=191.1257\n",
    "#input data - ionospheric coefficient\n",
    "alfa0= 1.49E-8\n",
    "alfa1= 2.24E-8\n",
    "alfa2=-1.19E-7\n",
    "alfa3=-1.19E-7\n",
    "beta0= 1.17E+5\n",
    "beta1= 1.80E+5\n",
    "beta2=-1.31E+5\n",
    "beta3=-4.95E+5\n",
    "\n",
    "# calculate the angles in semicircles, and the time from midnight in seconds\n",
    "t_gps=hours*3600+minutes*60+seconds\n",
    "user_lat=rec_lat_deg/180\n",
    "user_lon=rec_lon_deg/180\n",
    "elev=elev_deg/180\n",
    "az=az_deg/180\n"
   ]
  },
  {
   "cell_type": "markdown",
   "metadata": {},
   "source": [
    "## The ionospheric point (IPP)\n",
    "\n",
    "Distance between the IPP and the receiver (Earth-centran angle in semicircles):\n",
    "$$\\psi=\\frac{0.0137}{E+0.11}-0.022$$"
   ]
  },
  {
   "cell_type": "code",
   "execution_count": 8,
   "metadata": {},
   "outputs": [],
   "source": [
    "psi=(0.0137/(elev+0.11))-0.022"
   ]
  },
  {
   "cell_type": "markdown",
   "metadata": {},
   "source": [
    "The position of the IPP:\n",
    "\n",
    "$$\\phi_{i}=\\begin{cases}\n",
    "\\phi_{u}+\\psi\\cos A & \\left|\\phi_{u}+\\psi\\cos A\\right|\\leq0.416\\\\\n",
    "+0.416 & \\phi_{u}+\\psi\\cos A>+0.416\\\\\n",
    "-0.416 & \\phi_{u}+\\psi\\cos A<-0.416\n",
    "\\end{cases}$$\n",
    "\n",
    "$$\\lambda_{i}=\\lambda_{u}+\\frac{\\psi\\sin A}{\\cos\\phi_{i}}$$"
   ]
  },
  {
   "cell_type": "code",
   "execution_count": 9,
   "metadata": {},
   "outputs": [],
   "source": [
    "ipp_lat=user_lat+psi*cos(az*pi)\n",
    "if abs(ipp_lat)>0.416:\n",
    "    ipp_lat=copysign(0.416, ipp_lat)\n",
    "ipp_lon=user_lon+(psi*sin(az*pi))/cos(ipp_lat*pi)"
   ]
  },
  {
   "cell_type": "markdown",
   "metadata": {},
   "source": [
    "Geomagnetic latitude of the IPP:\n",
    "$$\\phi_{m}=\\phi_{i}+0.064\\cos\\left(\\lambda_{i}-1.617\\right)$$"
   ]
  },
  {
   "cell_type": "code",
   "execution_count": 10,
   "metadata": {},
   "outputs": [],
   "source": [
    "ipp_gmlat=ipp_lat+0.064*cos(ipp_lon-1.617)"
   ]
  },
  {
   "cell_type": "markdown",
   "metadata": {},
   "source": [
    "Local time in the IPP:\n",
    "$$t=43200\\lambda_{i}+t_{GPS}$$"
   ]
  },
  {
   "cell_type": "code",
   "execution_count": 11,
   "metadata": {},
   "outputs": [],
   "source": [
    "t=43200*ipp_lon+t_gps"
   ]
  },
  {
   "cell_type": "markdown",
   "metadata": {},
   "source": [
    "## The ionospheric effect\n",
    "\n",
    "$$F=1.0+16.0\\left(0.53-E\\right)^{3}$$\n",
    "\n",
    "$$PER=\\begin{cases}\n",
    "\\sum_{n=0}^{3}\\beta_{n}\\phi_{m}^{n} & \\sum_{n=0}^{3}\\beta_{n}\\phi_{m}^{n}\\geq72000\\\\\n",
    "72000 & \\sum_{n=0}^{3}\\beta_{n}\\phi_{m}^{n}<72000\n",
    "\\end{cases}$$\n",
    "\n",
    "$$x=\\frac{2\\pi\\left(t-50400\\right)}{PER}$$\n",
    "\n",
    "$$AMP=\\begin{cases}\n",
    "\\sum_{n=0}^{3}\\alpha_{n}\\phi_{m}^{n} & \\sum_{n=0}^{3}\\alpha_{n}\\phi_{m}^{n}\\geq0\\\\\n",
    "0 & \\sum_{n=0}^{3}\\alpha_{n}\\phi_{m}^{n}<0\n",
    "\\end{cases}$$\n",
    "\n",
    "$$T_{iono}=\\begin{cases}\n",
    "F\\cdot\\left(5.0\\cdot10^{-9}+AMP\\cdot\\left(1-\\frac{x^{2}}{2}+\\frac{x^{4}}{24}\\right)\\right) & \\left|x\\right|<1.57\\\\\n",
    "F\\cdot5.0\\cdot10^{-9} & \\left|x\\right|\\geq1.57\n",
    "\\end{cases}$$"
   ]
  },
  {
   "cell_type": "code",
   "execution_count": 12,
   "metadata": {},
   "outputs": [
    {
     "data": {
      "text/plain": [
       "5.06914381389651e-09"
      ]
     },
     "execution_count": 12,
     "metadata": {},
     "output_type": "execute_result"
    }
   ],
   "source": [
    "f=1.0+16.0*(0.53-elev)**3\n",
    "per=min(72000, beta0+beta1*ipp_gmlat+beta2*ipp_gmlat**2+beta3*ipp_gmlat**3)\n",
    "x=(2*pi*(t-50400))/per\n",
    "amp=min(0, alfa0+alfa1*ipp_gmlat+alfa2*ipp_gmlat**2+alfa3*ipp_gmlat**3)\n",
    "if abs(x)<1.57:\n",
    "    t_iono=f*(5E-9+amp*(1-(x**2)/2+(x**4)/24))\n",
    "else:\n",
    "    t_iono=f*5E-9\n",
    "\n",
    "t_iono"
   ]
  },
  {
   "cell_type": "markdown",
   "metadata": {},
   "source": [
    "in meters:"
   ]
  },
  {
   "cell_type": "code",
   "execution_count": 13,
   "metadata": {},
   "outputs": [
    {
     "data": {
      "text/plain": [
       "1.5196910839235294"
      ]
     },
     "execution_count": 13,
     "metadata": {},
     "output_type": "execute_result"
    }
   ],
   "source": [
    "t_iono*299792458.0"
   ]
  },
  {
   "cell_type": "markdown",
   "metadata": {},
   "source": [
    "## References\n",
    "\n",
    " - Bernhard Hofmann-Wellenhof, Herbert Lichtenegger, Elmar Wasle: GNSS — Global Navigation Satellite Systems, Springer-Verlag Wien, 2008. Subsection 5.3.2\n",
    " - IS-GPS-200K\n",
    " - https://gssc.esa.int/navipedia/index.php/Klobuchar_Ionospheric_Model"
   ]
  }
 ],
 "metadata": {
  "kernelspec": {
   "display_name": "Python 3",
   "language": "python",
   "name": "python3"
  },
  "language_info": {
   "codemirror_mode": {
    "name": "ipython",
    "version": 3
   },
   "file_extension": ".py",
   "mimetype": "text/x-python",
   "name": "python",
   "nbconvert_exporter": "python",
   "pygments_lexer": "ipython3",
   "version": "3.6.9"
  }
 },
 "nbformat": 4,
 "nbformat_minor": 2
}
