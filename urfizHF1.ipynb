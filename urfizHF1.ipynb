{
 "cells": [
  {
   "cell_type": "markdown",
   "metadata": {},
   "source": [
    "# Űrfizika első házi feladat\n",
    "\n",
    "__Az űrfizika alapjai__ tantárgy (ELTE)\n",
    "\n",
    "Készítette: __Nagy Gábor (AM7STK)__, BME űrtechnológiai szakember képzés\n",
    "\n",
    "_Budapest, 2023.04.11_\n",
    "\n",
    "## A feladatkiírásban megadott alapadatok\n",
    "\n",
    "A programkódban összetett szerkezetként megadott adatok a házi feladat\n",
    "kiírásából származnak."
   ]
  },
  {
   "cell_type": "code",
   "execution_count": 1,
   "metadata": {},
   "outputs": [],
   "source": [
    "#          megnevezés            sűrűség   hőm.      m.tér\n",
    "#                                [e/cm3]   [K]       [nT]\n",
    "kozegeka=[(\"napszél\",             10.0,     1.0e5,    5.0),\n",
    "          (\"háttérplazma\",        1.0e-2,   5.0e5,    30.0),\n",
    "          (\"plazmalepel\",         0.5,      5.0e6,    10.0)] \n",
    "\n",
    "#          megnevezés            sűrűség   hőm.        L       fi \n",
    "#                                [e/cm3]   [eV]      [R_E]    [fok]\n",
    "kozegekb=[(\"plazmaszféra\",        500.0,    40.0,     4.0,     0.0),\n",
    "          (\"gyűrűáram\",           8.0,      1.33e5,   7.0,    10.0),\n",
    "          (\"külső sugárzási öv\",  1.0,      8.0e6,    3.0,    20.0)] "
   ]
  },
  {
   "cell_type": "markdown",
   "metadata": {},
   "source": [
    "## Fizikai állandók és egyéb konstansok\n",
    "\n",
    "A felhasznált irodalom alapján"
   ]
  },
  {
   "cell_type": "code",
   "execution_count": 2,
   "metadata": {},
   "outputs": [],
   "source": [
    "k_B=  1.380649e-23           # A Boltzmann állandó            [kg*m^2*s^-2*K^-1]\n",
    "q_e= -1.602e-19              # Az elektron töltése            [A*s]\n",
    "eps_0=8.8541e-12             # A vákuum permittivitása        [A*s*V^-1*m^-1]\n",
    "mu_0= 1.2566370614359173e-06 # A vákuum permeabilitása        [V*s*A^-1*m^-1]\n",
    "m_e=  9.109e-31              # Az elektron e tömege           [kg]\n",
    "R_E=  6.372e06               # A Föld sugara                  [m]\n",
    "M_E=  8.05e22                # A Föld mágneses dipolmomentuma [A*m^2]\n",
    "eV2K= 1.1605e04              # A hőmérséklet átszámítása [eV]-ból [K]-re"
   ]
  },
  {
   "cell_type": "markdown",
   "metadata": {},
   "source": [
    "## Matematikai konstansok és függvények"
   ]
  },
  {
   "cell_type": "code",
   "execution_count": 3,
   "metadata": {},
   "outputs": [],
   "source": [
    "from math import pi, sqrt, sin, cos"
   ]
  },
  {
   "cell_type": "markdown",
   "metadata": {},
   "source": [
    "## A feladatkiírásban megadott adatok egységesítése\n",
    "\n",
    "Az eV-ben megadott hőmérséklet átszámítása Kelvinbe:\n",
    "\n",
    "$$ K=11605*eV $$\n",
    "\n",
    "A mágneses térerősség számítása $L$ és $r$ alapján (dipól közelítéssel):\n",
    "\n",
    "$$ B=\\frac{\\mu_0 M_E}{4 \\pi r^3}\\sqrt{1+3\\sin^2\\varphi} $$\n",
    "\n",
    "ahol az $r$ számítható az $L$-ből és $\\varphi$-ből:\n",
    "\n",
    "$$ r=LR_E\\cos^2\\varphi $$\n",
    "\n",
    "Amit a korábbi képletbe helyettesítve kapjuk:\n",
    "\n",
    "$$ B=\\frac{\\mu_0 M_E}{4 \\pi (LR_E\\cos^2\\varphi)^3}\\sqrt{1+3\\sin^2\\varphi} $$\n",
    "\n",
    "További szükséges számítások:\n",
    "* Az elektronsűrűség átváltása e/cm$^3$-ról e/m$^3$-ra (1e6 szorzó)\n",
    "* A nT átváltása T-ra (1e-9 szorzó)\n"
   ]
  },
  {
   "cell_type": "code",
   "execution_count": 4,
   "metadata": {},
   "outputs": [],
   "source": [
    "kozegek=[(kozeg[0],\n",
    "          kozeg[1]*1e6,\n",
    "          kozeg[2],\n",
    "          kozeg[3]*1e-9) for kozeg in kozegeka]+\\\n",
    "        [(kozeg[0],\n",
    "          kozeg[1]*1e6,\n",
    "          eV2K*kozeg[2],\n",
    "          (((mu_0*M_E)/(4*pi*(kozeg[3]*R_E*cos(kozeg[4]*(pi/180))**2)**3))*sqrt(1+3*sin(kozeg[4]*(pi/180))**2)) ) for kozeg in kozegekb]"
   ]
  },
  {
   "cell_type": "markdown",
   "metadata": {},
   "source": [
    "## A plazma közegek különféle jellemzőinek számítása\n",
    "### Debye-hossz\n",
    "\n",
    "$$ \\lambda_D=\\sqrt{\\frac{\\varepsilon_0 k_B T_e}{n_e q_e^2}} $$\n",
    "\n",
    "### Plazma paraméter\n",
    "\n",
    "$$ \\Lambda_D=n_e \\frac{4\\pi}{3}\\lambda_D^3 $$\n",
    "\n",
    "### Elektron plazmafrekvencia\n",
    "\n",
    "$$ \\omega_{pe}=\\sqrt{\\frac{n_e q_e^2}{m_e \\varepsilon_0}} $$\n",
    "\n",
    "### Elektron girofrekvencia\n",
    "\n",
    "$$ \\omega_{ge}=-\\frac{B q_e}{m_e} $$\n",
    "\n",
    "### Elektron girorádiusz\n",
    "\n",
    "$$ r_{ge}=\\frac{v_{\\bot e}}{\\omega_{ge}} $$\n",
    "\n",
    "amihez a $v_{\\bot e}$ a következő módon számítható:\n",
    "\n",
    "$$ v_{\\bot e}=\\sqrt{\\frac{3 k_B T_e}{m_e}} $$"
   ]
  },
  {
   "cell_type": "code",
   "execution_count": 5,
   "metadata": {},
   "outputs": [
    {
     "name": "stdout",
     "output_type": "stream",
     "text": [
      "Számítások a napszél közeg paramétereivel:\n",
      "                  Debye-hossz:         6.90 m\n",
      "              plazmaparaméter: 1.377028e+10 \n",
      "    elektron plazmafrekvencia:    178383.61 Hz\n",
      "      elektron girofrekvencia:       879.35 Hz\n",
      "         elektron girorádiusz:      2424.96 m\n",
      "\n",
      "Számítások a háttérplazma közeg paramétereivel:\n",
      "                  Debye-hossz:       488.02 m\n",
      "              plazmaparaméter: 4.868528e+12 \n",
      "    elektron plazmafrekvencia:      5640.99 Hz\n",
      "      elektron girofrekvencia:      5276.10 Hz\n",
      "         elektron girorádiusz:       903.73 m\n",
      "\n",
      "Számítások a plazmalepel közeg paramétereivel:\n",
      "                  Debye-hossz:       218.25 m\n",
      "              plazmaparaméter: 2.177272e+13 \n",
      "    elektron plazmafrekvencia:     39887.79 Hz\n",
      "      elektron girofrekvencia:      1758.70 Hz\n",
      "         elektron girorádiusz:      8573.54 m\n",
      "\n",
      "Számítások a plazmaszféra közeg paramétereivel:\n",
      "                  Debye-hossz:         2.10 m\n",
      "              plazmaparaméter: 1.947670e+10 \n",
      "    elektron plazmafrekvencia:   1261362.61 Hz\n",
      "      elektron girofrekvencia:     85502.82 Hz\n",
      "         elektron girorádiusz:        53.73 m\n",
      "\n",
      "Számítások a gyűrűáram közeg paramétereivel:\n",
      "                  Debye-hossz:       958.64 m\n",
      "              plazmaparaméter: 2.952180e+16 \n",
      "    elektron plazmafrekvencia:    159551.15 Hz\n",
      "      elektron girofrekvencia:     18262.60 Hz\n",
      "         elektron girorádiusz:     14506.17 m\n",
      "\n",
      "Számítások a külső sugárzási öv közeg paramétereivel:\n",
      "                  Debye-hossz:     21029.01 m\n",
      "              plazmaparaméter: 3.895340e+19 \n",
      "    elektron plazmafrekvencia:     56409.85 Hz\n",
      "      elektron girofrekvencia:    342135.93 Hz\n",
      "         elektron girorádiusz:      6005.32 m\n",
      "\n"
     ]
    }
   ],
   "source": [
    "for kozeg in kozegek:\n",
    "    print(f'Számítások a {kozeg[0]} közeg paramétereivel:')\n",
    "    lam_D=sqrt((eps_0*k_B*kozeg[2])/(kozeg[1]*q_e**2))\n",
    "    Lam=(4/3)*pi*kozeg[1]*lam_D**3\n",
    "    om_pe=sqrt((kozeg[1]*q_e**2)/(m_e*eps_0))\n",
    "    om_ge=-(kozeg[3]*q_e)/m_e\n",
    "    vmre=sqrt((3*k_B*kozeg[2])/(m_e))\n",
    "    r_ge=vmre/om_ge\n",
    "    print(f'                  Debye-hossz: {lam_D:12.2f} m')\n",
    "    print(f'              plazmaparaméter: {Lam:e} ')\n",
    "    print(f'    elektron plazmafrekvencia: {om_pe:12.2f} Hz')\n",
    "    print(f'      elektron girofrekvencia: {om_ge:12.2f} Hz')\n",
    "    print(f'         elektron girorádiusz: {r_ge:12.2f} m')\n",
    "    print()"
   ]
  },
  {
   "cell_type": "markdown",
   "metadata": {},
   "source": [
    "## Felhasznált irodalom\n",
    "* A tantárgy óráin használt fóliák\n",
    "* A Házi Feladat kiírása\n",
    "* W. Baumjohann, R. A. Treumann: Basic Space Plasma Phisics, Imperial College Press 2012, ISBN 13-978-1-84816-984-7\n",
    "* M. G. Kivelson, C. T. Russel: Introduction to Space Phisics, Cambridge Press 1995, ISBN 0-521-45104-3\n",
    "* https://codata.org/"
   ]
  }
 ],
 "metadata": {
  "kernelspec": {
   "display_name": "Python 3",
   "language": "python",
   "name": "python3"
  },
  "language_info": {
   "codemirror_mode": {
    "name": "ipython",
    "version": 3
   },
   "file_extension": ".py",
   "mimetype": "text/x-python",
   "name": "python",
   "nbconvert_exporter": "python",
   "pygments_lexer": "ipython3",
   "version": "3.6.9"
  }
 },
 "nbformat": 4,
 "nbformat_minor": 2
}
