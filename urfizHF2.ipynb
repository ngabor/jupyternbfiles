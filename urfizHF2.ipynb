{
 "cells": [
  {
   "cell_type": "markdown",
   "metadata": {},
   "source": [
    "# Űrfizika második házi feladat\n",
    "\n",
    "__Az űrfizika alapjai__ tantárgy (ELTE)\n",
    "\n",
    "Készítette: __Nagy Gábor (AM7STK)__, BME űrtechnológiai szakember képzés\n",
    "\n",
    "_Budapest, 2023.04.20_\n",
    "\n",
    "## A feladatkiírásban megadott alapadatok\n",
    "\n",
    "A programkódban összetett szerkezetként megadott adatok a házi feladat\n",
    "kiírásából származnak.\n",
    "\n",
    "A feladatlapon található diagram görbéit digitalizáltam."
   ]
  },
  {
   "cell_type": "code",
   "execution_count": 1,
   "metadata": {},
   "outputs": [],
   "source": [
    "#          megnevezés              sűrűség     hőm.\n",
    "#                                  [e/cm3]     [K]\n",
    "kozegeka=[(\"ionoszféra E-réteg\",    1.0e04,    300),\n",
    "          (\"ionoszféra F-réteg\",    1.0e06,    500)] \n",
    "\n",
    "#          megnevezés              magasság       sűrűség\n",
    "#                                    [km]         [e/cm3]\n",
    "kozegekb=[(\"ionoszféra  E-réteg\",     110.0,      1.0e04),\n",
    "          (\"ionoszféra F2-réteg\",     300.0,      1.0e06)]\n",
    "\n",
    "\n",
    "# A diagramról digitalizált görbék\n",
    "\n",
    "gorbe_nu_in=[(259.57,      1.00), (250.42,      1.27), (241.28,     1.66), (232.30,     2.17),\n",
    "             (223.99,      2.82), (200.46,      5.66), (186.58,     9.21), (171.94,    15.38),\n",
    "             (162.72,     22.47), (154.57,     31.95), (147.17,    46.85), (139.52,    72.77),\n",
    "             (133.70,    110.67), (128.22,    174.53), (124.31,   269.00), (120.65,   409.88),\n",
    "             (110.84,   1881.04), (103.03,   6653.96), ( 95.88, 21802.61), ( 90.89, 51398.13),\n",
    "             ( 84.90, 138012.04), ( 80.00, 303688.01)]\n",
    "\n",
    "gorbe_nu_en=[(300.00,     14.49), (275.03,      26.33), (231.72,     79.62), (209.44,    148.61),\n",
    "             (191.40,    241.66), (161.64,     582.93), (145.51,   1027.30), (135.86,   1613.95),\n",
    "             (130.88,   2093.88), (125.39,    3047.16), (119.57,   5248.00), (112.92,  10138.51),\n",
    "             (106.60,  21802.61), (100.36,   53432.91), ( 95.21, 118479.93), ( 89.39, 320582.49),\n",
    "             ( 84.24, 773311.77), ( 80.00, 1448881.97)]\n",
    "\n",
    "gorbe_Om_1= [(300.00, 270.70), (259.15, 270.70), (235.21, 264.55), (209.00, 250.63), \n",
    "             (191.35, 235.62), (176.74, 207.66), (164.79, 181.62), (149.43, 163.31), \n",
    "             (136.44, 158.39), (112.50, 153.61), ( 93.88, 153.61), ( 80.00, 153.61)]\n",
    "\n",
    "#Az Om_e értéke a diagram alapján nem függ a magasságtól\n",
    "Om_e=8626580.45\n",
    "\n",
    "def linipol(gorbe, x):\n",
    "    \"\"\"Egy ponthoz tartozó érték megállapítása egy görbéről lineáris interpolációval\"\"\"\n",
    "    for i in range(1,len(gorbe)):\n",
    "        if gorbe[i][0]<=x<=gorbe[i-1][0]:\n",
    "            return ((gorbe[i-1][0]-x)*gorbe[i][1] + (x-gorbe[i][0])*gorbe[i-1][1])/(gorbe[i-1][0]-gorbe[i][0])\n",
    "    raise ValueError('Az érték nincs a görbén!')\n",
    "    "
   ]
  },
  {
   "cell_type": "markdown",
   "metadata": {},
   "source": [
    "## Fizikai állandók és egyéb konstansok\n",
    "\n",
    "A felhasznált irodalom alapján, átvéve az első házi feladatból"
   ]
  },
  {
   "cell_type": "code",
   "execution_count": 2,
   "metadata": {},
   "outputs": [],
   "source": [
    "k_B=  1.380649e-23           # A Boltzmann állandó            [kg*m^2*s^-2*K^-1]\n",
    "q_e= -1.602e-19              # Az elektron töltése            [A*s]\n",
    "eps_0=8.8541e-12             # A vákuum permittivitása        [A*s*V^-1*m^-1]\n",
    "mu_0= 1.2566370614359173e-06 # A vákuum permeabilitása        [V*s*A^-1*m^-1]\n",
    "m_e=  9.109e-31              # Az elektron e tömege           [kg]\n",
    "R_E=  6.372e06               # A Föld sugara                  [m]\n",
    "M_E=  8.05e22                # A Föld mágneses dipolmomentuma [A*m^2]\n",
    "eV2K= 1.1605e04              # A hőmérséklet átszámítása [eV]-ból [K]-re"
   ]
  },
  {
   "cell_type": "markdown",
   "metadata": {},
   "source": [
    "## Matematikai konstansok és függvények"
   ]
  },
  {
   "cell_type": "code",
   "execution_count": 3,
   "metadata": {},
   "outputs": [],
   "source": [
    "from math import pi, sqrt, sin, cos, log"
   ]
  },
  {
   "cell_type": "markdown",
   "metadata": {},
   "source": [
    "## a) feladatrész: Az ütközési gyakoriság számítása\n",
    "\n",
    "### Debye-hossz\n",
    "\n",
    "$$ \\lambda_D=\\sqrt{\\frac{\\varepsilon_0 k_B T_e}{n_e q_e^2}} $$\n",
    "\n",
    "### Plazma paraméter\n",
    "\n",
    "$$ \\Lambda_D=n_e \\frac{4\\pi}{3}\\lambda_D^3 $$\n",
    "\n",
    "### Elektron plazmafrekvencia\n",
    "\n",
    "$$ \\omega_{pe}=\\sqrt{\\frac{n_e q_e^2}{m_e \\varepsilon_0}} $$\n",
    "\n",
    "### Ütközési gyakoriság\n",
    "\n",
    "$$ \\nu_{ei} \\approx \\frac{\\omega_{pe}}{64\\pi} \\frac{ln\\Lambda}{\\Lambda} $$\n"
   ]
  },
  {
   "cell_type": "code",
   "execution_count": 4,
   "metadata": {},
   "outputs": [
    {
     "name": "stdout",
     "output_type": "stream",
     "text": [
      "Számítások a(z) ionoszféra E-réteg közeg paramétereivel:\n",
      "                  Debye-hossz:     0.011954 m\n",
      "              plazmaparaméter: 7.155245e+04 \n",
      "    elektron plazmafrekvencia:   5640985.06 Hz\n",
      "          ütközési gyakoriság:         4.38 Hz\n",
      "\n",
      "Számítások a(z) ionoszféra F-réteg közeg paramétereivel:\n",
      "                  Debye-hossz:     0.001543 m\n",
      "              plazmaparaméter: 1.539564e+04 \n",
      "    elektron plazmafrekvencia:  56409850.58 Hz\n",
      "          ütközési gyakoriság:       175.71 Hz\n",
      "\n"
     ]
    }
   ],
   "source": [
    "for kozeg in kozegeka:\n",
    "    print(f'Számítások a(z) {kozeg[0]} közeg paramétereivel:')\n",
    "    lam_D=sqrt((eps_0*k_B*kozeg[2])/(kozeg[1]*1e6*q_e**2))\n",
    "    Lam=(4/3)*pi*kozeg[1]*1e6*lam_D**3\n",
    "    om_pe=sqrt((kozeg[1]*1e6*q_e**2)/(m_e*eps_0))\n",
    "    vmre=sqrt((3*k_B*kozeg[2])/(m_e))\n",
    "    nu_ei=(om_pe*log(Lam))/(64*pi*Lam)\n",
    "    print(f'                  Debye-hossz: {lam_D:12.6f} m')\n",
    "    print(f'              plazmaparaméter: {Lam:e} ')\n",
    "    print(f'    elektron plazmafrekvencia: {om_pe:12.2f} Hz')\n",
    "    print(f'          ütközési gyakoriság: {nu_ei:12.2f} Hz')\n",
    "    print()"
   ]
  },
  {
   "cell_type": "markdown",
   "metadata": {},
   "source": [
    "## b) feladatrész: számítások a digaramról leolvasott értékekkel\n",
    "\n",
    "Az elektron-semleges ütközési frekvencia leolvasása a kiadott ábráról a diagramról digitalizált görbékkel, a megadott rétegek magasságában, majd a szükséges számítások elvégzése.\n",
    "\n",
    "### Párhuzamos vezetőképesség\n",
    "\n",
    "$$ \\sigma_{\\parallel} = \\sigma_{0} = \\frac{n_e q^2_e}{m_e \\nu_{en}} $$\n",
    "\n",
    "### Pedersen vezetőképesség\n",
    "\n",
    "$$ \\sigma_{P} = \\frac{\\nu^{2}_{en}}{\\nu^{2}_{en}+\\omega^{2}_{ge}}\\sigma_{0} $$\n",
    "\n",
    "### Hall vezetőképesség\n",
    "\n",
    "$$ \\sigma_{H} = -\\frac{\\omega_{ge}\\nu_{en}}{\\nu^{2}_{en}+\\omega^{2}_{en}}\\sigma_{0} $$\n",
    "\n"
   ]
  },
  {
   "cell_type": "code",
   "execution_count": 5,
   "metadata": {},
   "outputs": [
    {
     "name": "stdout",
     "output_type": "stream",
     "text": [
      "Számítások a(z) ionoszféra  E-réteg közeg paramétereivel:\n",
      "elektron-semleges ütközési frekvencia:        15527.62 Hz\n",
      "            párhuzamos vezetőképesség:   +1.814469e-08 S/m\n",
      "              Pedersen vezetőképesség:   +5.878688e-14 S/m\n",
      "                  Hall vezetőképesség:   -3.265985e-11 S/m\n",
      "\n",
      "Számítások a(z) ionoszféra F2-réteg közeg paramétereivel:\n",
      "elektron-semleges ütközési frekvencia:           14.49 Hz\n",
      "            párhuzamos vezetőképesség:   +1.944401e-03 S/m\n",
      "              Pedersen vezetőképesség:   +5.485868e-15 S/m\n",
      "                  Hall vezetőképesség:   -3.265996e-09 S/m\n",
      "\n"
     ]
    }
   ],
   "source": [
    "for kozeg in kozegekb:\n",
    "    print(f'Számítások a(z) {kozeg[0]} közeg paramétereivel:')\n",
    "    nu_en=linipol(gorbe_nu_en, kozeg[1])\n",
    "    sig0=(kozeg[2]*q_e**2)/(m_e*nu_en)\n",
    "    sigP=(sig0*nu_en**2)/(nu_en**2+Om_e**2)\n",
    "    sigH=-(sig0*Om_e*nu_en)/(nu_en**2+Om_e**2)\n",
    "    print(f'elektron-semleges ütközési frekvencia: {nu_en:15.2f} Hz')\n",
    "    print(f'            párhuzamos vezetőképesség: {sig0:+15e} S/m')\n",
    "    print(f'              Pedersen vezetőképesség: {sigP:+15e} S/m')\n",
    "    print(f'                  Hall vezetőképesség: {sigH:+15e} S/m')\n",
    "    print()"
   ]
  },
  {
   "cell_type": "markdown",
   "metadata": {},
   "source": [
    "## Felhasznált irodalom\n",
    "* A tantárgy óráin használt fóliák\n",
    "* A Házi Feladat kiírása\n",
    "* W. Baumjohann, R. A. Treumann: Basic Space Plasma Phisics, Imperial College Press 2012, ISBN 13-978-1-84816-984-7\n",
    "* M. G. Kivelson, C. T. Russel: Introduction to Space Phisics, Cambridge Press 1995, ISBN 0-521-45104-3\n",
    "* https://codata.org/"
   ]
  }
 ],
 "metadata": {
  "kernelspec": {
   "display_name": "Python 3",
   "language": "python",
   "name": "python3"
  },
  "language_info": {
   "codemirror_mode": {
    "name": "ipython",
    "version": 3
   },
   "file_extension": ".py",
   "mimetype": "text/x-python",
   "name": "python",
   "nbconvert_exporter": "python",
   "pygments_lexer": "ipython3",
   "version": "3.6.9"
  }
 },
 "nbformat": 4,
 "nbformat_minor": 2
}
