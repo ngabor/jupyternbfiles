{
 "cells": [
  {
   "cell_type": "markdown",
   "metadata": {},
   "source": [
    "# Calculate satelliete position from broadcast orbital parameters\n",
    "\n",
    "Beacause the pertutbed motion, the calculation of the satellite position is more complex than the Keplerian model.\n",
    "\n",
    "The orbit of an satellite (and the clock of the sattelite) can be determined by more parameters.\n",
    "\n",
    "|name|notation|dimension|var name|position in the RINEX nav file|\n",
    "|-----|-----|-----|-----|-----|\n",
    "|Reference epoch| $t_{0e}$ |time|t0e|row 4, 1st field|\n",
    "|Mean anomaly in the reference epoch| $M_{0}$ |angle|m0|row 2, 4th field|\n",
    "|Square root of semimajor axis of orbital ellipse| $\\sqrt{a}$ |distance (sqrt)|sqrta|row 3, 4th field|\n",
    "|Numerical eccentricity of ellipse| $e$ |-|ecc|row 3, 2nd field|\n",
    "|Mean motion difference| $\\Delta n$ |angle/time|delta_n|row 2, 3rd field|\n",
    "|Longitude of ascending node in the reference epoch| $\\Omega_{0}$ |angle|uom0|row 4, 3rd field|\n",
    "|Rate of nodes right ascension| $\\dot{\\varOmega}$ |ange/time|dot_uom|row 5, 4th field|\n",
    "|Inclination of orbital plane in the reference eopch| $i_{0}$ |angle|i0|row 5, 1st field|\n",
    "|Rate of inclination angle| $\\dot{i}$ |angle/time|dot_i|row 6, 1st field|\n",
    "|Argument of perigee| $\\omega$ |angle|lom|row 5, 3rd field|\n",
    "|Cosine part of latitude argument correction| $c_{uc}$ |angle|cuc|row 3, 1st field|\n",
    "|Sine part of latitude argument correction| $c_{us}$ |angle|cus|row 3, 3rd field|\n",
    "|Cosine part of orbital radius correction| $c_{rc}$ |distance|crc|row 5, 2nd field|\n",
    "|Sine part of orbital radius correction| $c_{rs}$ |distance|crs|row 2, 2nd field|\n",
    "|Cosine part of inclination correction| $c_{ic}$ |angle|cic|row 4, 2nd field|\n",
    "|Sine part of inclination correction| $c_{is}$ |angle|cis|row 4, 4th field|\n",
    "|Clock offset| $a_{0}$ |time|clk_a0|first row, the third field from the back|\n",
    "|Clock drift| $a_{1}$ |-|clk_a1|first row, the second field from the back|\n",
    "|Clock drift rate| $a_{2}$ |1/time|clk_a2|first row, last field|\n",
    "\n",
    "The value of $\\mu_{Earth}=3.986005\\cdot10^{14}\\frac{m^{3}}{s^{2}}$\n",
    "\n",
    "The value of $\\omega_{Earth}=0.00007292115147$\n",
    "\n",
    "The value of $\\pi=3.1415926535898$"
   ]
  },
  {
   "cell_type": "code",
   "execution_count": 54,
   "metadata": {},
   "outputs": [
    {
     "data": {
      "text/plain": [
       "(287984.0,\n",
       " -162.85096105174475,\n",
       " 5153.73404312,\n",
       " 26560974.587214023,\n",
       " 0.00884578982368,\n",
       " 4.53197435135e-09,\n",
       " -1.33607394295,\n",
       " -7.79175302057e-09,\n",
       " 55.11728041805165,\n",
       " -4.12874345823e-10,\n",
       " -0.114071783319,\n",
       " 1.42678618431e-06,\n",
       " 1.05015933514e-05,\n",
       " 178.90625,\n",
       " 25.874999999999996,\n",
       " -1.54599547386e-07,\n",
       " -3.53902578354e-08,\n",
       " 9.574042633180001e-05,\n",
       " -2.6147972675999996e-12,\n",
       " 0.0)"
      ]
     },
     "execution_count": 54,
     "metadata": {},
     "output_type": "execute_result"
    }
   ],
   "source": [
    "#Import required modules\n",
    "from math import sqrt, sin, cos, tan, atan, atan2\n",
    "import numpy as np\n",
    "\n",
    "#constants\n",
    "mue=398600500000000.0\n",
    "lome=0.00007292115147\n",
    "pi=3.1415926535898\n",
    "\n",
    "#data from RINEX navigation file\n",
    "navrintxt=\"\"\"31 18  9  5  7 59 44.0 0.957404263318D-04-0.261479726760D-11 0.000000000000D+00\n",
    "    0.600000000000D+01 0.258750000000D+02 0.453197435135D-08-0.284228546039D+01\n",
    "    0.142678618431D-05 0.884578982368D-02 0.105015933514D-04 0.515373404312D+04\n",
    "    0.287984000000D+06-0.154599547386D-06-0.133607394295D+01-0.353902578354D-07\n",
    "    0.961978018040D+00 0.178906250000D+03-0.114071783319D+00-0.779175302057D-08\n",
    "   -0.412874345823D-09 0.100000000000D+01 0.201700000000D+04 0.000000000000D+00\n",
    "    0.000000000000D+00 0.000000000000D+00-0.135041773319D-07 0.600000000000D+01\n",
    "    0.285576000000D+06 0.000000000000D+00 0.000000000000D+00 0.000000000000D+00\"\"\"\n",
    "\n",
    "#Split to rows the RINEX data. Put an empty string to the firs for the 0 index\n",
    "rnrw=['']+navrintxt.split('\\n')\n",
    "\n",
    "#Define a fuction for read a field from RINEX data\n",
    "def rndat(rnrow, idx):\n",
    "    return float(rnrow[3+(idx-1)*19:18+(idx-1)*19])*10**int(rnrow[19+(idx-1)*19:22+(idx-1)*19])\n",
    "\n",
    "#Read data from the RINEX text\n",
    "t0e=rndat(rnrw[4],1)\n",
    "m0=rndat(rnrw[2],4)\n",
    "sqrta=rndat(rnrw[3],4)\n",
    "a=sqrta**2\n",
    "ecc=rndat(rnrw[3],2)\n",
    "delta_n=rndat(rnrw[2],3)\n",
    "uom0=rndat(rnrw[4],3)\n",
    "dot_uom=rndat(rnrw[5],4)\n",
    "i0=rndat(rnrw[5],1)\n",
    "dot_i=rndat(rnrw[6],1)\n",
    "lom=rndat(rnrw[5],3)\n",
    "cuc=rndat(rnrw[3],1)\n",
    "cus=rndat(rnrw[3],3)\n",
    "crc=rndat(rnrw[5],2)\n",
    "crs=rndat(rnrw[2],2)\n",
    "cic=rndat(rnrw[4],2)\n",
    "cis=rndat(rnrw[4],4)\n",
    "clk_a0=rndat(rnrw[1],2)\n",
    "clk_a1=rndat(rnrw[1],3)\n",
    "clk_a2=rndat(rnrw[1],4)\n",
    "\n",
    "t=t0e+1600\n",
    "\n",
    "t0e, m0*(180/pi), sqrta, a, ecc, delta_n, uom0, dot_uom, i0*(180/pi), dot_i, lom, cuc, cus, crc, crs, cic, cis, clk_a0, clk_a1, clk_a2"
   ]
  },
  {
   "cell_type": "markdown",
   "metadata": {},
   "source": [
    "Calculation of the position of the satellite in the $t$ epoch.\n",
    "\n",
    "Time from the reference epoch:\n",
    "\n",
    "$$t_{k}=t-t_{0e}$$\n",
    "\n",
    "The mean anomaly:\n",
    "\n",
    "$$M_{k}=M_{0}+\\left(\\sqrt{\\frac{\\mu_{Earth}}{a^{3}}}+\\Delta n\\right)t_{k}$$"
   ]
  },
  {
   "cell_type": "code",
   "execution_count": 55,
   "metadata": {},
   "outputs": [
    {
     "data": {
      "text/plain": [
       "(1600.0, -2.608920102436533, -149.4801109564514)"
      ]
     },
     "execution_count": 55,
     "metadata": {},
     "output_type": "execute_result"
    }
   ],
   "source": [
    "tk=t-t0e\n",
    "mak=m0+(sqrt(mue/a**3)+delta_n)*tk\n",
    "tk, mak, mak*(180/pi)"
   ]
  },
  {
   "cell_type": "markdown",
   "metadata": {},
   "source": [
    "The eccentric anomaly is similar than the Keplerian case.\n",
    "The calculation is an iterative method, initially $E_{k}=M_{k}$.\n",
    "\n",
    "$$E_{k}=M_{k}+e\\sin E_{k}$$"
   ]
  },
  {
   "cell_type": "code",
   "execution_count": 56,
   "metadata": {},
   "outputs": [
    {
     "data": {
      "text/plain": [
       "(-2.6133783085062454, -149.73554734844555)"
      ]
     },
     "execution_count": 56,
     "metadata": {},
     "output_type": "execute_result"
    }
   ],
   "source": [
    "#the initial value is the mean anomaly\n",
    "eak=mak\n",
    "#the iteration loop\n",
    "while True:\n",
    "    old_eak=eak\n",
    "    eak=mak+ecc*sin(eak)\n",
    "    if abs(eak-old_eak)<0.0000000000001:\n",
    "        break\n",
    "eak, eak*(180/pi)"
   ]
  },
  {
   "cell_type": "markdown",
   "metadata": {},
   "source": [
    "The true anomaly is also simlar than the Keplerian case:\n",
    "\n",
    "$$\\upsilon_{k}=\\arctan\\left(\\frac{\\sqrt{1-e^{2}}\\sin E_{k}}{\\cos E_{k}-e}\\right)$$"
   ]
  },
  {
   "cell_type": "code",
   "execution_count": 57,
   "metadata": {},
   "outputs": [
    {
     "data": {
      "text/plain": [
       "(-149.9900162042633, -149.99001620426327)"
      ]
     },
     "execution_count": 57,
     "metadata": {},
     "output_type": "execute_result"
    }
   ],
   "source": [
    "tak=atan2(sqrt(1-ecc**2)*sin(eak), cos(eak)-ecc)\n",
    "\n",
    "#another calulation for check\n",
    "tak2=2*atan2(sqrt((1+ecc)/(1-ecc))*sin(eak/2),cos(eak/2))\n",
    "\n",
    "tak*(180/pi), tak2*(180/pi)"
   ]
  },
  {
   "cell_type": "markdown",
   "metadata": {},
   "source": [
    "Argument of latitude:\n",
    "\n",
    "$$u_{k}=\\omega+\\upsilon_{k}+c_{uc}\\cos2\\left(\\omega+\\upsilon_{k}\\right)+c_{us}\\sin2\\left(\\omega+\\upsilon_{k}\\right)$$\n",
    "\n",
    "Radial distance:\n",
    "\n",
    "$$r_{k}=a\\left(1-e\\cos E_{k}\\right)+c_{rc}\\cos2\\left(\\omega+\\upsilon_{k}\\right)+c_{rs}\\sin2\\left(\\omega+\\upsilon_{k}\\right)$$\n",
    "\n",
    "Inclination of orbital plane:\n",
    "\n",
    "$$i_{k}=i_{0}+\\dot{i}t_{k}+c_{ic}\\cos2\\left(\\omega+\\upsilon_{k}\\right)+c_{is}\\sin2\\left(\\omega+\\upsilon_{k}\\right)$$\n",
    "\n",
    "Longitude of ascending node:\n",
    "\n",
    "$$\\lambda_{k}=\\varOmega_{0}+\\left(\\dot{\\varOmega}-\\omega_{E}\\right)t_{k}-\\omega_{E}t_{0e}$$"
   ]
  },
  {
   "cell_type": "code",
   "execution_count": 58,
   "metadata": {},
   "outputs": [
    {
     "data": {
      "text/plain": [
       "(-2.7318827632821376,\n",
       " 26764046.33329098,\n",
       " 0.9619772260414272,\n",
       " 153.54444375540623)"
      ]
     },
     "execution_count": 58,
     "metadata": {},
     "output_type": "execute_result"
    }
   ],
   "source": [
    "aolk=lom+tak+cuc*cos(2*(lom+tak))+cus*sin(2*(lom+tak))\n",
    "rk=a*(1-ecc*cos(eak))+crc*cos(2*(lom+tak))+crs*sin(2*(lom+tak))\n",
    "ik=i0+dot_i*tk+cic*cos(2*(lom+tak))+cis*sin(2*(lom+tak))\n",
    "\n",
    "loank=(uom0+(dot_uom-lome)*tk-lome*t0e)%(2*pi)\n",
    "\n",
    "aolk,rk,ik,loank*(180/pi)"
   ]
  },
  {
   "cell_type": "markdown",
   "metadata": {},
   "source": [
    "The ECEF coordinates of the satellite in t time:\n",
    "\n",
    "$$\\left[\\begin{array}{c}\n",
    "X\\\\\n",
    "Y\\\\\n",
    "Z\n",
    "\\end{array}\\right]=R_{Z}\\left(-\\lambda_{k}\\right)\\cdot R_{X}\\left(-i_{k}\\right)\\cdot R_{Z}\\left(-u_{k}\\right)\\cdot\\left[\\begin{array}{c}\n",
    "r_{k}\\\\\n",
    "0\\\\\n",
    "0\n",
    "\\end{array}\\right]$$"
   ]
  },
  {
   "cell_type": "code",
   "execution_count": 59,
   "metadata": {},
   "outputs": [
    {
     "data": {
      "text/plain": [
       "array([[ 24694509.07145114],\n",
       "       [ -5477966.23643446],\n",
       "       [ -8745700.87317465]])"
      ]
     },
     "execution_count": 59,
     "metadata": {},
     "output_type": "execute_result"
    }
   ],
   "source": [
    "rm_loank=np.array([[ cos(loank), -sin(loank), 0.0],\n",
    "                   [ sin(loank),  cos(loank), 0.0],\n",
    "                   [        0.0,         0.0, 1.0]])\n",
    "\n",
    "rm_ik=np.array([[1.0,      0.0,      0.0],\n",
    "                [0.0,  cos(ik), -sin(ik)],\n",
    "                [0.0,  sin(ik),  cos(ik)]])\n",
    "\n",
    "rm_aolk=np.array([[ cos(aolk), -sin(aolk), 0.0],\n",
    "                  [ sin(aolk),  cos(aolk), 0.0],\n",
    "                  [       0.0,        0.0, 1.0]])\n",
    "\n",
    "coordk=rm_loank @ rm_ik @ rm_aolk @ np.array([[rk],[0],[0]])\n",
    "\n",
    "coordk"
   ]
  },
  {
   "cell_type": "markdown",
   "metadata": {},
   "source": [
    "The offset of the clock in t time:\n",
    "\n",
    "$$a_{k}=a_{0}+a_{1}t_{k}+a_{2}t_{k}^{2}$$"
   ]
  },
  {
   "cell_type": "code",
   "execution_count": 60,
   "metadata": {},
   "outputs": [
    {
     "data": {
      "text/plain": [
       "9.573624265617186e-05"
      ]
     },
     "execution_count": 60,
     "metadata": {},
     "output_type": "execute_result"
    }
   ],
   "source": [
    "clk_ak=clk_a0+clk_a1*tk+clk_a2*tk**2\n",
    "\n",
    "clk_ak"
   ]
  },
  {
   "cell_type": "markdown",
   "metadata": {},
   "source": [
    "## References\n",
    "\n",
    "Bernhard Hofmann-Wellenhof, Herbert Lichtenegger, Elmar Wasle: GNSS — Global Navigation Satellite Systems, Springer-Verlag Wien, 2008. Subsection 3.4.2\n",
    "\n",
    "https://gssc.esa.int/navipedia/index.php/GPS_and_Galileo_Satellite_Coordinates_Computation"
   ]
  },
  {
   "cell_type": "code",
   "execution_count": null,
   "metadata": {},
   "outputs": [],
   "source": []
  }
 ],
 "metadata": {
  "kernelspec": {
   "display_name": "Python 3",
   "language": "python",
   "name": "python3"
  },
  "language_info": {
   "codemirror_mode": {
    "name": "ipython",
    "version": 3
   },
   "file_extension": ".py",
   "mimetype": "text/x-python",
   "name": "python",
   "nbconvert_exporter": "python",
   "pygments_lexer": "ipython3",
   "version": "3.6.9"
  }
 },
 "nbformat": 4,
 "nbformat_minor": 2
}
