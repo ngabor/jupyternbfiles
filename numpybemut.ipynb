{
 "cells": [
  {
   "cell_type": "markdown",
   "metadata": {},
   "source": [
    "# NumPy mintapéldák"
   ]
  },
  {
   "cell_type": "markdown",
   "metadata": {},
   "source": [
    "A NumPy modult általában a rövidített np néven szoktuk használni a programokban, amihez a lent látott formában kell importálni. Az első két sor a későbbi diagramok miatt került a kódba, a NumPy használatához nem szükséges."
   ]
  },
  {
   "cell_type": "code",
   "execution_count": 1,
   "metadata": {},
   "outputs": [],
   "source": [
    "%matplotlib notebook\n",
    "import matplotlib.pyplot as plt\n",
    "import numpy as np"
   ]
  },
  {
   "cell_type": "markdown",
   "metadata": {},
   "source": [
    "A NumPy alapvető objektuma tömb (array), ami tetszőleges dimenziószámú lehet, az egy- (vektor) és kétdimenziós (mátrix) eseteket kiemelten kezelik.\n",
    "Egy tetszőleges tömböt hozhatunk létre egy (akár több szinten egymásba ágyazott) listából az np.array() függvény segítségével. "
   ]
  },
  {
   "cell_type": "code",
   "execution_count": 2,
   "metadata": {},
   "outputs": [
    {
     "data": {
      "text/plain": [
       "array([12.7,  3.8, -5.3])"
      ]
     },
     "execution_count": 2,
     "metadata": {},
     "output_type": "execute_result"
    }
   ],
   "source": [
    "np.array([12.7, 3.8, -5.3])"
   ]
  },
  {
   "cell_type": "code",
   "execution_count": 3,
   "metadata": {},
   "outputs": [
    {
     "data": {
      "text/plain": [
       "array([[10, 21, 12],\n",
       "       [32, 13, 17],\n",
       "       [15, 11, 14]])"
      ]
     },
     "execution_count": 3,
     "metadata": {},
     "output_type": "execute_result"
    }
   ],
   "source": [
    "np.array([[10, 21, 12], [32, 13, 17], [15, 11, 14]])"
   ]
  },
  {
   "cell_type": "code",
   "execution_count": 4,
   "metadata": {},
   "outputs": [
    {
     "data": {
      "text/plain": [
       "array([[[3, 4],\n",
       "        [5, 6]],\n",
       "\n",
       "       [[1, 3],\n",
       "        [7, 2]]])"
      ]
     },
     "execution_count": 4,
     "metadata": {},
     "output_type": "execute_result"
    }
   ],
   "source": [
    "np.array([[[3,4],[5,6]],[[1,3],[7,2]]])"
   ]
  },
  {
   "cell_type": "markdown",
   "metadata": {},
   "source": [
    "Ha egy vektor elemei egy számtani sorozat tagjai, akkor azt np.arange() függvénnyel a Python range típusához nagyon hasonlóan lehet létrehozni. Fontos különbség, hogy ez a megoldás lebegőpontos értékekkel is működik."
   ]
  },
  {
   "cell_type": "code",
   "execution_count": 5,
   "metadata": {},
   "outputs": [
    {
     "data": {
      "text/plain": [
       "array([0, 1, 2, 3, 4, 5, 6, 7, 8, 9])"
      ]
     },
     "execution_count": 5,
     "metadata": {},
     "output_type": "execute_result"
    }
   ],
   "source": [
    "np.arange(10)"
   ]
  },
  {
   "cell_type": "code",
   "execution_count": 6,
   "metadata": {},
   "outputs": [
    {
     "data": {
      "text/plain": [
       "array([ 1,  2,  3,  4,  5,  6,  7,  8,  9, 10])"
      ]
     },
     "execution_count": 6,
     "metadata": {},
     "output_type": "execute_result"
    }
   ],
   "source": [
    "np.arange(1,11)"
   ]
  },
  {
   "cell_type": "code",
   "execution_count": 7,
   "metadata": {},
   "outputs": [
    {
     "data": {
      "text/plain": [
       "array([ 10,  20,  30,  40,  50,  60,  70,  80,  90, 100])"
      ]
     },
     "execution_count": 7,
     "metadata": {},
     "output_type": "execute_result"
    }
   ],
   "source": [
    "np.arange(10,101,10)"
   ]
  },
  {
   "cell_type": "code",
   "execution_count": 8,
   "metadata": {},
   "outputs": [
    {
     "data": {
      "text/plain": [
       "array([0. , 0.1, 0.2, 0.3, 0.4, 0.5, 0.6, 0.7, 0.8, 0.9, 1. ])"
      ]
     },
     "execution_count": 8,
     "metadata": {},
     "output_type": "execute_result"
    }
   ],
   "source": [
    "np.arange(0.0, 1.1, 0.1)"
   ]
  },
  {
   "cell_type": "markdown",
   "metadata": {},
   "source": [
    "A fetiekben létrehozott tömbök tartalma ugyanolyan, mintha az np.array-al hoztuk volna őket, ellentétben a Python range() függvényével létrehozott range objektumokkal.\n",
    "\n",
    "A speciális tartalmú mátrixok egyszerűbb létrehozására külön függvények vannak:"
   ]
  },
  {
   "cell_type": "code",
   "execution_count": 9,
   "metadata": {},
   "outputs": [
    {
     "data": {
      "text/plain": [
       "array([[0., 0., 0., 0., 0., 0., 0., 0., 0., 0.],\n",
       "       [0., 0., 0., 0., 0., 0., 0., 0., 0., 0.],\n",
       "       [0., 0., 0., 0., 0., 0., 0., 0., 0., 0.],\n",
       "       [0., 0., 0., 0., 0., 0., 0., 0., 0., 0.],\n",
       "       [0., 0., 0., 0., 0., 0., 0., 0., 0., 0.],\n",
       "       [0., 0., 0., 0., 0., 0., 0., 0., 0., 0.]])"
      ]
     },
     "execution_count": 9,
     "metadata": {},
     "output_type": "execute_result"
    }
   ],
   "source": [
    "# csupa nullát tartalmazó mátrix\n",
    "np.zeros((6,10))"
   ]
  },
  {
   "cell_type": "code",
   "execution_count": 10,
   "metadata": {},
   "outputs": [
    {
     "data": {
      "text/plain": [
       "array([[1., 1., 1., 1., 1., 1., 1., 1.],\n",
       "       [1., 1., 1., 1., 1., 1., 1., 1.],\n",
       "       [1., 1., 1., 1., 1., 1., 1., 1.],\n",
       "       [1., 1., 1., 1., 1., 1., 1., 1.],\n",
       "       [1., 1., 1., 1., 1., 1., 1., 1.]])"
      ]
     },
     "execution_count": 10,
     "metadata": {},
     "output_type": "execute_result"
    }
   ],
   "source": [
    "#csupa egyest tartalmazó mátrix\n",
    "np.ones((5,8))"
   ]
  },
  {
   "cell_type": "code",
   "execution_count": 11,
   "metadata": {},
   "outputs": [
    {
     "data": {
      "text/plain": [
       "array([[0.65241078, 0.88302987, 0.32923924, 0.55635894, 0.18645282],\n",
       "       [0.22300881, 0.27543584, 0.35011834, 0.14407856, 0.14818351],\n",
       "       [0.26397946, 0.4378293 , 0.76193758, 0.60543746, 0.19935719],\n",
       "       [0.80505104, 0.68976057, 0.260664  , 0.30618523, 0.7243064 ]])"
      ]
     },
     "execution_count": 11,
     "metadata": {},
     "output_type": "execute_result"
    }
   ],
   "source": [
    "#véletlen számokat tartalmazó mátrix\n",
    "np.random.rand(4,5)"
   ]
  },
  {
   "cell_type": "code",
   "execution_count": 12,
   "metadata": {},
   "outputs": [
    {
     "data": {
      "text/plain": [
       "array([[1., 0., 0., 0.],\n",
       "       [0., 1., 0., 0.],\n",
       "       [0., 0., 1., 0.],\n",
       "       [0., 0., 0., 1.]])"
      ]
     },
     "execution_count": 12,
     "metadata": {},
     "output_type": "execute_result"
    }
   ],
   "source": [
    "#egységmátrix:\n",
    "np.identity(4)"
   ]
  },
  {
   "cell_type": "markdown",
   "metadata": {},
   "source": [
    "A tömb alakját a .reshape() metódussal lehet átalakítani:"
   ]
  },
  {
   "cell_type": "code",
   "execution_count": 13,
   "metadata": {},
   "outputs": [
    {
     "data": {
      "text/plain": [
       "array([[ 1.2,  3.7],\n",
       "       [-2.6,  2.3]])"
      ]
     },
     "execution_count": 13,
     "metadata": {},
     "output_type": "execute_result"
    }
   ],
   "source": [
    "np.array([1.2,3.7,-2.6,2.3]).reshape((2,2))"
   ]
  },
  {
   "cell_type": "markdown",
   "metadata": {},
   "source": [
    "A tömbök egyes elemeihez indexek segítségével lehet hozzáférni. Egydimenziós tömbök esetében ez a listákhoz hasonlóan történhet, a : is használható."
   ]
  },
  {
   "cell_type": "code",
   "execution_count": 14,
   "metadata": {},
   "outputs": [
    {
     "data": {
      "text/plain": [
       "array([ 1,  2,  3,  4,  5,  6,  7,  8,  9, 10, 11, 12, 13, 14, 15, 16, 17,\n",
       "       18, 19, 20])"
      ]
     },
     "execution_count": 14,
     "metadata": {},
     "output_type": "execute_result"
    }
   ],
   "source": [
    "v=np.arange(1,21)\n",
    "v"
   ]
  },
  {
   "cell_type": "code",
   "execution_count": 15,
   "metadata": {},
   "outputs": [
    {
     "data": {
      "text/plain": [
       "4"
      ]
     },
     "execution_count": 15,
     "metadata": {},
     "output_type": "execute_result"
    }
   ],
   "source": [
    "v[3]"
   ]
  },
  {
   "cell_type": "code",
   "execution_count": 16,
   "metadata": {},
   "outputs": [
    {
     "data": {
      "text/plain": [
       "array([4, 5])"
      ]
     },
     "execution_count": 16,
     "metadata": {},
     "output_type": "execute_result"
    }
   ],
   "source": [
    "v[3:5]"
   ]
  },
  {
   "cell_type": "code",
   "execution_count": 17,
   "metadata": {},
   "outputs": [
    {
     "data": {
      "text/plain": [
       "array([3, 6, 9])"
      ]
     },
     "execution_count": 17,
     "metadata": {},
     "output_type": "execute_result"
    }
   ],
   "source": [
    "v[2:9:3]"
   ]
  },
  {
   "cell_type": "code",
   "execution_count": 18,
   "metadata": {},
   "outputs": [
    {
     "data": {
      "text/plain": [
       "array([1, 2, 3, 4])"
      ]
     },
     "execution_count": 18,
     "metadata": {},
     "output_type": "execute_result"
    }
   ],
   "source": [
    "v[:4]"
   ]
  },
  {
   "cell_type": "code",
   "execution_count": 19,
   "metadata": {},
   "outputs": [
    {
     "data": {
      "text/plain": [
       "array([ 1,  3,  5,  7,  9, 11, 13, 15, 17, 19])"
      ]
     },
     "execution_count": 19,
     "metadata": {},
     "output_type": "execute_result"
    }
   ],
   "source": [
    "v[::2]"
   ]
  },
  {
   "cell_type": "code",
   "execution_count": 20,
   "metadata": {},
   "outputs": [
    {
     "data": {
      "text/plain": [
       "array([ 1,  2,  3,  4,  5,  6,  7,  8,  9, 10, 11, 12, 13, 14, 15, 16, 17,\n",
       "       18, 19, 20])"
      ]
     },
     "execution_count": 20,
     "metadata": {},
     "output_type": "execute_result"
    }
   ],
   "source": [
    "v[:]"
   ]
  },
  {
   "cell_type": "markdown",
   "metadata": {},
   "source": [
    "Lehet indexelni logikai elemek azonos méretű listájával, amit akát ott helyben is előállíthatunk a megfelelő kifejezéssel (ld. később, az elemenkénti műveleteknél)"
   ]
  },
  {
   "cell_type": "code",
   "execution_count": 21,
   "metadata": {},
   "outputs": [
    {
     "data": {
      "text/plain": [
       "array([11, 12, 13, 14, 15, 16, 17, 18, 19, 20])"
      ]
     },
     "execution_count": 21,
     "metadata": {},
     "output_type": "execute_result"
    }
   ],
   "source": [
    "v[v>10]"
   ]
  },
  {
   "cell_type": "markdown",
   "metadata": {},
   "source": [
    "Az indexelés történhet akát az indexeket felsoroló lista segítségével is."
   ]
  },
  {
   "cell_type": "code",
   "execution_count": 22,
   "metadata": {},
   "outputs": [
    {
     "data": {
      "text/plain": [
       "array([ 2,  4, 11, 13])"
      ]
     },
     "execution_count": 22,
     "metadata": {},
     "output_type": "execute_result"
    }
   ],
   "source": [
    "v[(1,3,10,12),]"
   ]
  },
  {
   "cell_type": "markdown",
   "metadata": {},
   "source": [
    "Többdimenziós tömbök esetén az egyes dimenziók indexeléseit vesszővel választjuk el egymástól. Lehet akár sorokat vagy oszlopokat is kiválasztani."
   ]
  },
  {
   "cell_type": "code",
   "execution_count": 23,
   "metadata": {},
   "outputs": [
    {
     "data": {
      "text/plain": [
       "array([[ 1,  2,  3,  4,  5],\n",
       "       [ 6,  7,  8,  9, 10],\n",
       "       [11, 12, 13, 14, 15],\n",
       "       [16, 17, 18, 19, 20]])"
      ]
     },
     "execution_count": 23,
     "metadata": {},
     "output_type": "execute_result"
    }
   ],
   "source": [
    "m=np.arange(1,21).reshape(4,5)\n",
    "m"
   ]
  },
  {
   "cell_type": "code",
   "execution_count": 24,
   "metadata": {},
   "outputs": [
    {
     "data": {
      "text/plain": [
       "14"
      ]
     },
     "execution_count": 24,
     "metadata": {},
     "output_type": "execute_result"
    }
   ],
   "source": [
    "m[2,3]"
   ]
  },
  {
   "cell_type": "code",
   "execution_count": 25,
   "metadata": {},
   "outputs": [
    {
     "data": {
      "text/plain": [
       "14"
      ]
     },
     "execution_count": 25,
     "metadata": {},
     "output_type": "execute_result"
    }
   ],
   "source": [
    "#Ez is ugyanaz, de nem ajánlott a használata\n",
    "m[2][3]"
   ]
  },
  {
   "cell_type": "code",
   "execution_count": 26,
   "metadata": {},
   "outputs": [
    {
     "data": {
      "text/plain": [
       "array([11, 12, 13, 14, 15])"
      ]
     },
     "execution_count": 26,
     "metadata": {},
     "output_type": "execute_result"
    }
   ],
   "source": [
    "#Egy sor kiválasztása\n",
    "m[2]"
   ]
  },
  {
   "cell_type": "code",
   "execution_count": 27,
   "metadata": {},
   "outputs": [
    {
     "data": {
      "text/plain": [
       "array([ 3,  8, 13, 18])"
      ]
     },
     "execution_count": 27,
     "metadata": {},
     "output_type": "execute_result"
    }
   ],
   "source": [
    "#Egy oszlop kiválasztása\n",
    "m[:,2]"
   ]
  },
  {
   "cell_type": "code",
   "execution_count": 28,
   "metadata": {},
   "outputs": [
    {
     "data": {
      "text/plain": [
       "array([11, 12, 13, 14, 15])"
      ]
     },
     "execution_count": 28,
     "metadata": {},
     "output_type": "execute_result"
    }
   ],
   "source": [
    "#Egy sor kiválasztása, másként mint az előbb\n",
    "m[2,:]"
   ]
  },
  {
   "cell_type": "markdown",
   "metadata": {},
   "source": [
    "Az indelés értékadásokban is szerepelhet, a tömb elemeinek így bármikor új értéket adhatunk."
   ]
  },
  {
   "cell_type": "code",
   "execution_count": 29,
   "metadata": {},
   "outputs": [
    {
     "data": {
      "text/plain": [
       "array([[  1,   2,   3,   4,   5],\n",
       "       [  6,   7,   8, 100,  10],\n",
       "       [ 11,  12,  13,  14,  15],\n",
       "       [ 16,  17,  18,  19,  20]])"
      ]
     },
     "execution_count": 29,
     "metadata": {},
     "output_type": "execute_result"
    }
   ],
   "source": [
    "m[1,3]=100\n",
    "m"
   ]
  },
  {
   "cell_type": "markdown",
   "metadata": {},
   "source": [
    "Akár egy szakasznak is adhatunk új értéket."
   ]
  },
  {
   "cell_type": "code",
   "execution_count": 30,
   "metadata": {},
   "outputs": [
    {
     "data": {
      "text/plain": [
       "array([[  1,   2,   3,   4,   5],\n",
       "       [  6,   7,   8, 100,  10],\n",
       "       [101, 102,  13,  14,  15],\n",
       "       [ 16,  17,  18,  19,  20]])"
      ]
     },
     "execution_count": 30,
     "metadata": {},
     "output_type": "execute_result"
    }
   ],
   "source": [
    "m[2,:2]=[101, 102]\n",
    "m"
   ]
  },
  {
   "cell_type": "markdown",
   "metadata": {},
   "source": [
    "A NumPy-ban a tömbök között a szokásos operátorok mindig elemenkénti műveleteket jelentenek. (Amennyiben a tömbök mérete egyforma, vagy egyeztethető)"
   ]
  },
  {
   "cell_type": "code",
   "execution_count": 43,
   "metadata": {},
   "outputs": [
    {
     "data": {
      "application/javascript": [
       "/* Put everything inside the global mpl namespace */\n",
       "window.mpl = {};\n",
       "\n",
       "\n",
       "mpl.get_websocket_type = function() {\n",
       "    if (typeof(WebSocket) !== 'undefined') {\n",
       "        return WebSocket;\n",
       "    } else if (typeof(MozWebSocket) !== 'undefined') {\n",
       "        return MozWebSocket;\n",
       "    } else {\n",
       "        alert('Your browser does not have WebSocket support.' +\n",
       "              'Please try Chrome, Safari or Firefox ≥ 6. ' +\n",
       "              'Firefox 4 and 5 are also supported but you ' +\n",
       "              'have to enable WebSockets in about:config.');\n",
       "    };\n",
       "}\n",
       "\n",
       "mpl.figure = function(figure_id, websocket, ondownload, parent_element) {\n",
       "    this.id = figure_id;\n",
       "\n",
       "    this.ws = websocket;\n",
       "\n",
       "    this.supports_binary = (this.ws.binaryType != undefined);\n",
       "\n",
       "    if (!this.supports_binary) {\n",
       "        var warnings = document.getElementById(\"mpl-warnings\");\n",
       "        if (warnings) {\n",
       "            warnings.style.display = 'block';\n",
       "            warnings.textContent = (\n",
       "                \"This browser does not support binary websocket messages. \" +\n",
       "                    \"Performance may be slow.\");\n",
       "        }\n",
       "    }\n",
       "\n",
       "    this.imageObj = new Image();\n",
       "\n",
       "    this.context = undefined;\n",
       "    this.message = undefined;\n",
       "    this.canvas = undefined;\n",
       "    this.rubberband_canvas = undefined;\n",
       "    this.rubberband_context = undefined;\n",
       "    this.format_dropdown = undefined;\n",
       "\n",
       "    this.image_mode = 'full';\n",
       "\n",
       "    this.root = $('<div/>');\n",
       "    this._root_extra_style(this.root)\n",
       "    this.root.attr('style', 'display: inline-block');\n",
       "\n",
       "    $(parent_element).append(this.root);\n",
       "\n",
       "    this._init_header(this);\n",
       "    this._init_canvas(this);\n",
       "    this._init_toolbar(this);\n",
       "\n",
       "    var fig = this;\n",
       "\n",
       "    this.waiting = false;\n",
       "\n",
       "    this.ws.onopen =  function () {\n",
       "            fig.send_message(\"supports_binary\", {value: fig.supports_binary});\n",
       "            fig.send_message(\"send_image_mode\", {});\n",
       "            if (mpl.ratio != 1) {\n",
       "                fig.send_message(\"set_dpi_ratio\", {'dpi_ratio': mpl.ratio});\n",
       "            }\n",
       "            fig.send_message(\"refresh\", {});\n",
       "        }\n",
       "\n",
       "    this.imageObj.onload = function() {\n",
       "            if (fig.image_mode == 'full') {\n",
       "                // Full images could contain transparency (where diff images\n",
       "                // almost always do), so we need to clear the canvas so that\n",
       "                // there is no ghosting.\n",
       "                fig.context.clearRect(0, 0, fig.canvas.width, fig.canvas.height);\n",
       "            }\n",
       "            fig.context.drawImage(fig.imageObj, 0, 0);\n",
       "        };\n",
       "\n",
       "    this.imageObj.onunload = function() {\n",
       "        fig.ws.close();\n",
       "    }\n",
       "\n",
       "    this.ws.onmessage = this._make_on_message_function(this);\n",
       "\n",
       "    this.ondownload = ondownload;\n",
       "}\n",
       "\n",
       "mpl.figure.prototype._init_header = function() {\n",
       "    var titlebar = $(\n",
       "        '<div class=\"ui-dialog-titlebar ui-widget-header ui-corner-all ' +\n",
       "        'ui-helper-clearfix\"/>');\n",
       "    var titletext = $(\n",
       "        '<div class=\"ui-dialog-title\" style=\"width: 100%; ' +\n",
       "        'text-align: center; padding: 3px;\"/>');\n",
       "    titlebar.append(titletext)\n",
       "    this.root.append(titlebar);\n",
       "    this.header = titletext[0];\n",
       "}\n",
       "\n",
       "\n",
       "\n",
       "mpl.figure.prototype._canvas_extra_style = function(canvas_div) {\n",
       "\n",
       "}\n",
       "\n",
       "\n",
       "mpl.figure.prototype._root_extra_style = function(canvas_div) {\n",
       "\n",
       "}\n",
       "\n",
       "mpl.figure.prototype._init_canvas = function() {\n",
       "    var fig = this;\n",
       "\n",
       "    var canvas_div = $('<div/>');\n",
       "\n",
       "    canvas_div.attr('style', 'position: relative; clear: both; outline: 0');\n",
       "\n",
       "    function canvas_keyboard_event(event) {\n",
       "        return fig.key_event(event, event['data']);\n",
       "    }\n",
       "\n",
       "    canvas_div.keydown('key_press', canvas_keyboard_event);\n",
       "    canvas_div.keyup('key_release', canvas_keyboard_event);\n",
       "    this.canvas_div = canvas_div\n",
       "    this._canvas_extra_style(canvas_div)\n",
       "    this.root.append(canvas_div);\n",
       "\n",
       "    var canvas = $('<canvas/>');\n",
       "    canvas.addClass('mpl-canvas');\n",
       "    canvas.attr('style', \"left: 0; top: 0; z-index: 0; outline: 0\")\n",
       "\n",
       "    this.canvas = canvas[0];\n",
       "    this.context = canvas[0].getContext(\"2d\");\n",
       "\n",
       "    var backingStore = this.context.backingStorePixelRatio ||\n",
       "\tthis.context.webkitBackingStorePixelRatio ||\n",
       "\tthis.context.mozBackingStorePixelRatio ||\n",
       "\tthis.context.msBackingStorePixelRatio ||\n",
       "\tthis.context.oBackingStorePixelRatio ||\n",
       "\tthis.context.backingStorePixelRatio || 1;\n",
       "\n",
       "    mpl.ratio = (window.devicePixelRatio || 1) / backingStore;\n",
       "\n",
       "    var rubberband = $('<canvas/>');\n",
       "    rubberband.attr('style', \"position: absolute; left: 0; top: 0; z-index: 1;\")\n",
       "\n",
       "    var pass_mouse_events = true;\n",
       "\n",
       "    canvas_div.resizable({\n",
       "        start: function(event, ui) {\n",
       "            pass_mouse_events = false;\n",
       "        },\n",
       "        resize: function(event, ui) {\n",
       "            fig.request_resize(ui.size.width, ui.size.height);\n",
       "        },\n",
       "        stop: function(event, ui) {\n",
       "            pass_mouse_events = true;\n",
       "            fig.request_resize(ui.size.width, ui.size.height);\n",
       "        },\n",
       "    });\n",
       "\n",
       "    function mouse_event_fn(event) {\n",
       "        if (pass_mouse_events)\n",
       "            return fig.mouse_event(event, event['data']);\n",
       "    }\n",
       "\n",
       "    rubberband.mousedown('button_press', mouse_event_fn);\n",
       "    rubberband.mouseup('button_release', mouse_event_fn);\n",
       "    // Throttle sequential mouse events to 1 every 20ms.\n",
       "    rubberband.mousemove('motion_notify', mouse_event_fn);\n",
       "\n",
       "    rubberband.mouseenter('figure_enter', mouse_event_fn);\n",
       "    rubberband.mouseleave('figure_leave', mouse_event_fn);\n",
       "\n",
       "    canvas_div.on(\"wheel\", function (event) {\n",
       "        event = event.originalEvent;\n",
       "        event['data'] = 'scroll'\n",
       "        if (event.deltaY < 0) {\n",
       "            event.step = 1;\n",
       "        } else {\n",
       "            event.step = -1;\n",
       "        }\n",
       "        mouse_event_fn(event);\n",
       "    });\n",
       "\n",
       "    canvas_div.append(canvas);\n",
       "    canvas_div.append(rubberband);\n",
       "\n",
       "    this.rubberband = rubberband;\n",
       "    this.rubberband_canvas = rubberband[0];\n",
       "    this.rubberband_context = rubberband[0].getContext(\"2d\");\n",
       "    this.rubberband_context.strokeStyle = \"#000000\";\n",
       "\n",
       "    this._resize_canvas = function(width, height) {\n",
       "        // Keep the size of the canvas, canvas container, and rubber band\n",
       "        // canvas in synch.\n",
       "        canvas_div.css('width', width)\n",
       "        canvas_div.css('height', height)\n",
       "\n",
       "        canvas.attr('width', width * mpl.ratio);\n",
       "        canvas.attr('height', height * mpl.ratio);\n",
       "        canvas.attr('style', 'width: ' + width + 'px; height: ' + height + 'px;');\n",
       "\n",
       "        rubberband.attr('width', width);\n",
       "        rubberband.attr('height', height);\n",
       "    }\n",
       "\n",
       "    // Set the figure to an initial 600x600px, this will subsequently be updated\n",
       "    // upon first draw.\n",
       "    this._resize_canvas(600, 600);\n",
       "\n",
       "    // Disable right mouse context menu.\n",
       "    $(this.rubberband_canvas).bind(\"contextmenu\",function(e){\n",
       "        return false;\n",
       "    });\n",
       "\n",
       "    function set_focus () {\n",
       "        canvas.focus();\n",
       "        canvas_div.focus();\n",
       "    }\n",
       "\n",
       "    window.setTimeout(set_focus, 100);\n",
       "}\n",
       "\n",
       "mpl.figure.prototype._init_toolbar = function() {\n",
       "    var fig = this;\n",
       "\n",
       "    var nav_element = $('<div/>')\n",
       "    nav_element.attr('style', 'width: 100%');\n",
       "    this.root.append(nav_element);\n",
       "\n",
       "    // Define a callback function for later on.\n",
       "    function toolbar_event(event) {\n",
       "        return fig.toolbar_button_onclick(event['data']);\n",
       "    }\n",
       "    function toolbar_mouse_event(event) {\n",
       "        return fig.toolbar_button_onmouseover(event['data']);\n",
       "    }\n",
       "\n",
       "    for(var toolbar_ind in mpl.toolbar_items) {\n",
       "        var name = mpl.toolbar_items[toolbar_ind][0];\n",
       "        var tooltip = mpl.toolbar_items[toolbar_ind][1];\n",
       "        var image = mpl.toolbar_items[toolbar_ind][2];\n",
       "        var method_name = mpl.toolbar_items[toolbar_ind][3];\n",
       "\n",
       "        if (!name) {\n",
       "            // put a spacer in here.\n",
       "            continue;\n",
       "        }\n",
       "        var button = $('<button/>');\n",
       "        button.addClass('ui-button ui-widget ui-state-default ui-corner-all ' +\n",
       "                        'ui-button-icon-only');\n",
       "        button.attr('role', 'button');\n",
       "        button.attr('aria-disabled', 'false');\n",
       "        button.click(method_name, toolbar_event);\n",
       "        button.mouseover(tooltip, toolbar_mouse_event);\n",
       "\n",
       "        var icon_img = $('<span/>');\n",
       "        icon_img.addClass('ui-button-icon-primary ui-icon');\n",
       "        icon_img.addClass(image);\n",
       "        icon_img.addClass('ui-corner-all');\n",
       "\n",
       "        var tooltip_span = $('<span/>');\n",
       "        tooltip_span.addClass('ui-button-text');\n",
       "        tooltip_span.html(tooltip);\n",
       "\n",
       "        button.append(icon_img);\n",
       "        button.append(tooltip_span);\n",
       "\n",
       "        nav_element.append(button);\n",
       "    }\n",
       "\n",
       "    var fmt_picker_span = $('<span/>');\n",
       "\n",
       "    var fmt_picker = $('<select/>');\n",
       "    fmt_picker.addClass('mpl-toolbar-option ui-widget ui-widget-content');\n",
       "    fmt_picker_span.append(fmt_picker);\n",
       "    nav_element.append(fmt_picker_span);\n",
       "    this.format_dropdown = fmt_picker[0];\n",
       "\n",
       "    for (var ind in mpl.extensions) {\n",
       "        var fmt = mpl.extensions[ind];\n",
       "        var option = $(\n",
       "            '<option/>', {selected: fmt === mpl.default_extension}).html(fmt);\n",
       "        fmt_picker.append(option)\n",
       "    }\n",
       "\n",
       "    // Add hover states to the ui-buttons\n",
       "    $( \".ui-button\" ).hover(\n",
       "        function() { $(this).addClass(\"ui-state-hover\");},\n",
       "        function() { $(this).removeClass(\"ui-state-hover\");}\n",
       "    );\n",
       "\n",
       "    var status_bar = $('<span class=\"mpl-message\"/>');\n",
       "    nav_element.append(status_bar);\n",
       "    this.message = status_bar[0];\n",
       "}\n",
       "\n",
       "mpl.figure.prototype.request_resize = function(x_pixels, y_pixels) {\n",
       "    // Request matplotlib to resize the figure. Matplotlib will then trigger a resize in the client,\n",
       "    // which will in turn request a refresh of the image.\n",
       "    this.send_message('resize', {'width': x_pixels, 'height': y_pixels});\n",
       "}\n",
       "\n",
       "mpl.figure.prototype.send_message = function(type, properties) {\n",
       "    properties['type'] = type;\n",
       "    properties['figure_id'] = this.id;\n",
       "    this.ws.send(JSON.stringify(properties));\n",
       "}\n",
       "\n",
       "mpl.figure.prototype.send_draw_message = function() {\n",
       "    if (!this.waiting) {\n",
       "        this.waiting = true;\n",
       "        this.ws.send(JSON.stringify({type: \"draw\", figure_id: this.id}));\n",
       "    }\n",
       "}\n",
       "\n",
       "\n",
       "mpl.figure.prototype.handle_save = function(fig, msg) {\n",
       "    var format_dropdown = fig.format_dropdown;\n",
       "    var format = format_dropdown.options[format_dropdown.selectedIndex].value;\n",
       "    fig.ondownload(fig, format);\n",
       "}\n",
       "\n",
       "\n",
       "mpl.figure.prototype.handle_resize = function(fig, msg) {\n",
       "    var size = msg['size'];\n",
       "    if (size[0] != fig.canvas.width || size[1] != fig.canvas.height) {\n",
       "        fig._resize_canvas(size[0], size[1]);\n",
       "        fig.send_message(\"refresh\", {});\n",
       "    };\n",
       "}\n",
       "\n",
       "mpl.figure.prototype.handle_rubberband = function(fig, msg) {\n",
       "    var x0 = msg['x0'] / mpl.ratio;\n",
       "    var y0 = (fig.canvas.height - msg['y0']) / mpl.ratio;\n",
       "    var x1 = msg['x1'] / mpl.ratio;\n",
       "    var y1 = (fig.canvas.height - msg['y1']) / mpl.ratio;\n",
       "    x0 = Math.floor(x0) + 0.5;\n",
       "    y0 = Math.floor(y0) + 0.5;\n",
       "    x1 = Math.floor(x1) + 0.5;\n",
       "    y1 = Math.floor(y1) + 0.5;\n",
       "    var min_x = Math.min(x0, x1);\n",
       "    var min_y = Math.min(y0, y1);\n",
       "    var width = Math.abs(x1 - x0);\n",
       "    var height = Math.abs(y1 - y0);\n",
       "\n",
       "    fig.rubberband_context.clearRect(\n",
       "        0, 0, fig.canvas.width, fig.canvas.height);\n",
       "\n",
       "    fig.rubberband_context.strokeRect(min_x, min_y, width, height);\n",
       "}\n",
       "\n",
       "mpl.figure.prototype.handle_figure_label = function(fig, msg) {\n",
       "    // Updates the figure title.\n",
       "    fig.header.textContent = msg['label'];\n",
       "}\n",
       "\n",
       "mpl.figure.prototype.handle_cursor = function(fig, msg) {\n",
       "    var cursor = msg['cursor'];\n",
       "    switch(cursor)\n",
       "    {\n",
       "    case 0:\n",
       "        cursor = 'pointer';\n",
       "        break;\n",
       "    case 1:\n",
       "        cursor = 'default';\n",
       "        break;\n",
       "    case 2:\n",
       "        cursor = 'crosshair';\n",
       "        break;\n",
       "    case 3:\n",
       "        cursor = 'move';\n",
       "        break;\n",
       "    }\n",
       "    fig.rubberband_canvas.style.cursor = cursor;\n",
       "}\n",
       "\n",
       "mpl.figure.prototype.handle_message = function(fig, msg) {\n",
       "    fig.message.textContent = msg['message'];\n",
       "}\n",
       "\n",
       "mpl.figure.prototype.handle_draw = function(fig, msg) {\n",
       "    // Request the server to send over a new figure.\n",
       "    fig.send_draw_message();\n",
       "}\n",
       "\n",
       "mpl.figure.prototype.handle_image_mode = function(fig, msg) {\n",
       "    fig.image_mode = msg['mode'];\n",
       "}\n",
       "\n",
       "mpl.figure.prototype.updated_canvas_event = function() {\n",
       "    // Called whenever the canvas gets updated.\n",
       "    this.send_message(\"ack\", {});\n",
       "}\n",
       "\n",
       "// A function to construct a web socket function for onmessage handling.\n",
       "// Called in the figure constructor.\n",
       "mpl.figure.prototype._make_on_message_function = function(fig) {\n",
       "    return function socket_on_message(evt) {\n",
       "        if (evt.data instanceof Blob) {\n",
       "            /* FIXME: We get \"Resource interpreted as Image but\n",
       "             * transferred with MIME type text/plain:\" errors on\n",
       "             * Chrome.  But how to set the MIME type?  It doesn't seem\n",
       "             * to be part of the websocket stream */\n",
       "            evt.data.type = \"image/png\";\n",
       "\n",
       "            /* Free the memory for the previous frames */\n",
       "            if (fig.imageObj.src) {\n",
       "                (window.URL || window.webkitURL).revokeObjectURL(\n",
       "                    fig.imageObj.src);\n",
       "            }\n",
       "\n",
       "            fig.imageObj.src = (window.URL || window.webkitURL).createObjectURL(\n",
       "                evt.data);\n",
       "            fig.updated_canvas_event();\n",
       "            fig.waiting = false;\n",
       "            return;\n",
       "        }\n",
       "        else if (typeof evt.data === 'string' && evt.data.slice(0, 21) == \"data:image/png;base64\") {\n",
       "            fig.imageObj.src = evt.data;\n",
       "            fig.updated_canvas_event();\n",
       "            fig.waiting = false;\n",
       "            return;\n",
       "        }\n",
       "\n",
       "        var msg = JSON.parse(evt.data);\n",
       "        var msg_type = msg['type'];\n",
       "\n",
       "        // Call the  \"handle_{type}\" callback, which takes\n",
       "        // the figure and JSON message as its only arguments.\n",
       "        try {\n",
       "            var callback = fig[\"handle_\" + msg_type];\n",
       "        } catch (e) {\n",
       "            console.log(\"No handler for the '\" + msg_type + \"' message type: \", msg);\n",
       "            return;\n",
       "        }\n",
       "\n",
       "        if (callback) {\n",
       "            try {\n",
       "                // console.log(\"Handling '\" + msg_type + \"' message: \", msg);\n",
       "                callback(fig, msg);\n",
       "            } catch (e) {\n",
       "                console.log(\"Exception inside the 'handler_\" + msg_type + \"' callback:\", e, e.stack, msg);\n",
       "            }\n",
       "        }\n",
       "    };\n",
       "}\n",
       "\n",
       "// from http://stackoverflow.com/questions/1114465/getting-mouse-location-in-canvas\n",
       "mpl.findpos = function(e) {\n",
       "    //this section is from http://www.quirksmode.org/js/events_properties.html\n",
       "    var targ;\n",
       "    if (!e)\n",
       "        e = window.event;\n",
       "    if (e.target)\n",
       "        targ = e.target;\n",
       "    else if (e.srcElement)\n",
       "        targ = e.srcElement;\n",
       "    if (targ.nodeType == 3) // defeat Safari bug\n",
       "        targ = targ.parentNode;\n",
       "\n",
       "    // jQuery normalizes the pageX and pageY\n",
       "    // pageX,Y are the mouse positions relative to the document\n",
       "    // offset() returns the position of the element relative to the document\n",
       "    var x = e.pageX - $(targ).offset().left;\n",
       "    var y = e.pageY - $(targ).offset().top;\n",
       "\n",
       "    return {\"x\": x, \"y\": y};\n",
       "};\n",
       "\n",
       "/*\n",
       " * return a copy of an object with only non-object keys\n",
       " * we need this to avoid circular references\n",
       " * http://stackoverflow.com/a/24161582/3208463\n",
       " */\n",
       "function simpleKeys (original) {\n",
       "  return Object.keys(original).reduce(function (obj, key) {\n",
       "    if (typeof original[key] !== 'object')\n",
       "        obj[key] = original[key]\n",
       "    return obj;\n",
       "  }, {});\n",
       "}\n",
       "\n",
       "mpl.figure.prototype.mouse_event = function(event, name) {\n",
       "    var canvas_pos = mpl.findpos(event)\n",
       "\n",
       "    if (name === 'button_press')\n",
       "    {\n",
       "        this.canvas.focus();\n",
       "        this.canvas_div.focus();\n",
       "    }\n",
       "\n",
       "    var x = canvas_pos.x * mpl.ratio;\n",
       "    var y = canvas_pos.y * mpl.ratio;\n",
       "\n",
       "    this.send_message(name, {x: x, y: y, button: event.button,\n",
       "                             step: event.step,\n",
       "                             guiEvent: simpleKeys(event)});\n",
       "\n",
       "    /* This prevents the web browser from automatically changing to\n",
       "     * the text insertion cursor when the button is pressed.  We want\n",
       "     * to control all of the cursor setting manually through the\n",
       "     * 'cursor' event from matplotlib */\n",
       "    event.preventDefault();\n",
       "    return false;\n",
       "}\n",
       "\n",
       "mpl.figure.prototype._key_event_extra = function(event, name) {\n",
       "    // Handle any extra behaviour associated with a key event\n",
       "}\n",
       "\n",
       "mpl.figure.prototype.key_event = function(event, name) {\n",
       "\n",
       "    // Prevent repeat events\n",
       "    if (name == 'key_press')\n",
       "    {\n",
       "        if (event.which === this._key)\n",
       "            return;\n",
       "        else\n",
       "            this._key = event.which;\n",
       "    }\n",
       "    if (name == 'key_release')\n",
       "        this._key = null;\n",
       "\n",
       "    var value = '';\n",
       "    if (event.ctrlKey && event.which != 17)\n",
       "        value += \"ctrl+\";\n",
       "    if (event.altKey && event.which != 18)\n",
       "        value += \"alt+\";\n",
       "    if (event.shiftKey && event.which != 16)\n",
       "        value += \"shift+\";\n",
       "\n",
       "    value += 'k';\n",
       "    value += event.which.toString();\n",
       "\n",
       "    this._key_event_extra(event, name);\n",
       "\n",
       "    this.send_message(name, {key: value,\n",
       "                             guiEvent: simpleKeys(event)});\n",
       "    return false;\n",
       "}\n",
       "\n",
       "mpl.figure.prototype.toolbar_button_onclick = function(name) {\n",
       "    if (name == 'download') {\n",
       "        this.handle_save(this, null);\n",
       "    } else {\n",
       "        this.send_message(\"toolbar_button\", {name: name});\n",
       "    }\n",
       "};\n",
       "\n",
       "mpl.figure.prototype.toolbar_button_onmouseover = function(tooltip) {\n",
       "    this.message.textContent = tooltip;\n",
       "};\n",
       "mpl.toolbar_items = [[\"Home\", \"Reset original view\", \"fa fa-home icon-home\", \"home\"], [\"Back\", \"Back to  previous view\", \"fa fa-arrow-left icon-arrow-left\", \"back\"], [\"Forward\", \"Forward to next view\", \"fa fa-arrow-right icon-arrow-right\", \"forward\"], [\"\", \"\", \"\", \"\"], [\"Pan\", \"Pan axes with left mouse, zoom with right\", \"fa fa-arrows icon-move\", \"pan\"], [\"Zoom\", \"Zoom to rectangle\", \"fa fa-square-o icon-check-empty\", \"zoom\"], [\"\", \"\", \"\", \"\"], [\"Download\", \"Download plot\", \"fa fa-floppy-o icon-save\", \"download\"]];\n",
       "\n",
       "mpl.extensions = [\"eps\", \"jpeg\", \"pdf\", \"png\", \"ps\", \"raw\", \"svg\", \"tif\"];\n",
       "\n",
       "mpl.default_extension = \"png\";var comm_websocket_adapter = function(comm) {\n",
       "    // Create a \"websocket\"-like object which calls the given IPython comm\n",
       "    // object with the appropriate methods. Currently this is a non binary\n",
       "    // socket, so there is still some room for performance tuning.\n",
       "    var ws = {};\n",
       "\n",
       "    ws.close = function() {\n",
       "        comm.close()\n",
       "    };\n",
       "    ws.send = function(m) {\n",
       "        //console.log('sending', m);\n",
       "        comm.send(m);\n",
       "    };\n",
       "    // Register the callback with on_msg.\n",
       "    comm.on_msg(function(msg) {\n",
       "        //console.log('receiving', msg['content']['data'], msg);\n",
       "        // Pass the mpl event to the overriden (by mpl) onmessage function.\n",
       "        ws.onmessage(msg['content']['data'])\n",
       "    });\n",
       "    return ws;\n",
       "}\n",
       "\n",
       "mpl.mpl_figure_comm = function(comm, msg) {\n",
       "    // This is the function which gets called when the mpl process\n",
       "    // starts-up an IPython Comm through the \"matplotlib\" channel.\n",
       "\n",
       "    var id = msg.content.data.id;\n",
       "    // Get hold of the div created by the display call when the Comm\n",
       "    // socket was opened in Python.\n",
       "    var element = $(\"#\" + id);\n",
       "    var ws_proxy = comm_websocket_adapter(comm)\n",
       "\n",
       "    function ondownload(figure, format) {\n",
       "        window.open(figure.imageObj.src);\n",
       "    }\n",
       "\n",
       "    var fig = new mpl.figure(id, ws_proxy,\n",
       "                           ondownload,\n",
       "                           element.get(0));\n",
       "\n",
       "    // Call onopen now - mpl needs it, as it is assuming we've passed it a real\n",
       "    // web socket which is closed, not our websocket->open comm proxy.\n",
       "    ws_proxy.onopen();\n",
       "\n",
       "    fig.parent_element = element.get(0);\n",
       "    fig.cell_info = mpl.find_output_cell(\"<div id='\" + id + \"'></div>\");\n",
       "    if (!fig.cell_info) {\n",
       "        console.error(\"Failed to find cell for figure\", id, fig);\n",
       "        return;\n",
       "    }\n",
       "\n",
       "    var output_index = fig.cell_info[2]\n",
       "    var cell = fig.cell_info[0];\n",
       "\n",
       "};\n",
       "\n",
       "mpl.figure.prototype.handle_close = function(fig, msg) {\n",
       "    var width = fig.canvas.width/mpl.ratio\n",
       "    fig.root.unbind('remove')\n",
       "\n",
       "    // Update the output cell to use the data from the current canvas.\n",
       "    fig.push_to_output();\n",
       "    var dataURL = fig.canvas.toDataURL();\n",
       "    // Re-enable the keyboard manager in IPython - without this line, in FF,\n",
       "    // the notebook keyboard shortcuts fail.\n",
       "    IPython.keyboard_manager.enable()\n",
       "    $(fig.parent_element).html('<img src=\"' + dataURL + '\" width=\"' + width + '\">');\n",
       "    fig.close_ws(fig, msg);\n",
       "}\n",
       "\n",
       "mpl.figure.prototype.close_ws = function(fig, msg){\n",
       "    fig.send_message('closing', msg);\n",
       "    // fig.ws.close()\n",
       "}\n",
       "\n",
       "mpl.figure.prototype.push_to_output = function(remove_interactive) {\n",
       "    // Turn the data on the canvas into data in the output cell.\n",
       "    var width = this.canvas.width/mpl.ratio\n",
       "    var dataURL = this.canvas.toDataURL();\n",
       "    this.cell_info[1]['text/html'] = '<img src=\"' + dataURL + '\" width=\"' + width + '\">';\n",
       "}\n",
       "\n",
       "mpl.figure.prototype.updated_canvas_event = function() {\n",
       "    // Tell IPython that the notebook contents must change.\n",
       "    IPython.notebook.set_dirty(true);\n",
       "    this.send_message(\"ack\", {});\n",
       "    var fig = this;\n",
       "    // Wait a second, then push the new image to the DOM so\n",
       "    // that it is saved nicely (might be nice to debounce this).\n",
       "    setTimeout(function () { fig.push_to_output() }, 1000);\n",
       "}\n",
       "\n",
       "mpl.figure.prototype._init_toolbar = function() {\n",
       "    var fig = this;\n",
       "\n",
       "    var nav_element = $('<div/>')\n",
       "    nav_element.attr('style', 'width: 100%');\n",
       "    this.root.append(nav_element);\n",
       "\n",
       "    // Define a callback function for later on.\n",
       "    function toolbar_event(event) {\n",
       "        return fig.toolbar_button_onclick(event['data']);\n",
       "    }\n",
       "    function toolbar_mouse_event(event) {\n",
       "        return fig.toolbar_button_onmouseover(event['data']);\n",
       "    }\n",
       "\n",
       "    for(var toolbar_ind in mpl.toolbar_items){\n",
       "        var name = mpl.toolbar_items[toolbar_ind][0];\n",
       "        var tooltip = mpl.toolbar_items[toolbar_ind][1];\n",
       "        var image = mpl.toolbar_items[toolbar_ind][2];\n",
       "        var method_name = mpl.toolbar_items[toolbar_ind][3];\n",
       "\n",
       "        if (!name) { continue; };\n",
       "\n",
       "        var button = $('<button class=\"btn btn-default\" href=\"#\" title=\"' + name + '\"><i class=\"fa ' + image + ' fa-lg\"></i></button>');\n",
       "        button.click(method_name, toolbar_event);\n",
       "        button.mouseover(tooltip, toolbar_mouse_event);\n",
       "        nav_element.append(button);\n",
       "    }\n",
       "\n",
       "    // Add the status bar.\n",
       "    var status_bar = $('<span class=\"mpl-message\" style=\"text-align:right; float: right;\"/>');\n",
       "    nav_element.append(status_bar);\n",
       "    this.message = status_bar[0];\n",
       "\n",
       "    // Add the close button to the window.\n",
       "    var buttongrp = $('<div class=\"btn-group inline pull-right\"></div>');\n",
       "    var button = $('<button class=\"btn btn-mini btn-primary\" href=\"#\" title=\"Stop Interaction\"><i class=\"fa fa-power-off icon-remove icon-large\"></i></button>');\n",
       "    button.click(function (evt) { fig.handle_close(fig, {}); } );\n",
       "    button.mouseover('Stop Interaction', toolbar_mouse_event);\n",
       "    buttongrp.append(button);\n",
       "    var titlebar = this.root.find($('.ui-dialog-titlebar'));\n",
       "    titlebar.prepend(buttongrp);\n",
       "}\n",
       "\n",
       "mpl.figure.prototype._root_extra_style = function(el){\n",
       "    var fig = this\n",
       "    el.on(\"remove\", function(){\n",
       "\tfig.close_ws(fig, {});\n",
       "    });\n",
       "}\n",
       "\n",
       "mpl.figure.prototype._canvas_extra_style = function(el){\n",
       "    // this is important to make the div 'focusable\n",
       "    el.attr('tabindex', 0)\n",
       "    // reach out to IPython and tell the keyboard manager to turn it's self\n",
       "    // off when our div gets focus\n",
       "\n",
       "    // location in version 3\n",
       "    if (IPython.notebook.keyboard_manager) {\n",
       "        IPython.notebook.keyboard_manager.register_events(el);\n",
       "    }\n",
       "    else {\n",
       "        // location in version 2\n",
       "        IPython.keyboard_manager.register_events(el);\n",
       "    }\n",
       "\n",
       "}\n",
       "\n",
       "mpl.figure.prototype._key_event_extra = function(event, name) {\n",
       "    var manager = IPython.notebook.keyboard_manager;\n",
       "    if (!manager)\n",
       "        manager = IPython.keyboard_manager;\n",
       "\n",
       "    // Check for shift+enter\n",
       "    if (event.shiftKey && event.which == 13) {\n",
       "        this.canvas_div.blur();\n",
       "        event.shiftKey = false;\n",
       "        // Send a \"J\" for go to next cell\n",
       "        event.which = 74;\n",
       "        event.keyCode = 74;\n",
       "        manager.command_mode();\n",
       "        manager.handle_keydown(event);\n",
       "    }\n",
       "}\n",
       "\n",
       "mpl.figure.prototype.handle_save = function(fig, msg) {\n",
       "    fig.ondownload(fig, null);\n",
       "}\n",
       "\n",
       "\n",
       "mpl.find_output_cell = function(html_output) {\n",
       "    // Return the cell and output element which can be found *uniquely* in the notebook.\n",
       "    // Note - this is a bit hacky, but it is done because the \"notebook_saving.Notebook\"\n",
       "    // IPython event is triggered only after the cells have been serialised, which for\n",
       "    // our purposes (turning an active figure into a static one), is too late.\n",
       "    var cells = IPython.notebook.get_cells();\n",
       "    var ncells = cells.length;\n",
       "    for (var i=0; i<ncells; i++) {\n",
       "        var cell = cells[i];\n",
       "        if (cell.cell_type === 'code'){\n",
       "            for (var j=0; j<cell.output_area.outputs.length; j++) {\n",
       "                var data = cell.output_area.outputs[j];\n",
       "                if (data.data) {\n",
       "                    // IPython >= 3 moved mimebundle to data attribute of output\n",
       "                    data = data.data;\n",
       "                }\n",
       "                if (data['text/html'] == html_output) {\n",
       "                    return [cell, data, j];\n",
       "                }\n",
       "            }\n",
       "        }\n",
       "    }\n",
       "}\n",
       "\n",
       "// Register the function which deals with the matplotlib target/channel.\n",
       "// The kernel may be null if the page has been refreshed.\n",
       "if (IPython.notebook.kernel != null) {\n",
       "    IPython.notebook.kernel.comm_manager.register_target('matplotlib', mpl.mpl_figure_comm);\n",
       "}\n"
      ],
      "text/plain": [
       "<IPython.core.display.Javascript object>"
      ]
     },
     "metadata": {},
     "output_type": "display_data"
    },
    {
     "data": {
      "text/html": [
       "<img src=\"data:image/png;base64,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\" width=\"640\">"
      ],
      "text/plain": [
       "<IPython.core.display.HTML object>"
      ]
     },
     "metadata": {},
     "output_type": "display_data"
    }
   ],
   "source": [
    "x=np.arange(-5.0,5.0,0.1)\n",
    "egyenes=1.5*x+10\n",
    "parabola=x**2\n",
    "plt.plot(x, egyenes)\n",
    "plt.plot(x, parabola)\n",
    "plt.show()"
   ]
  },
  {
   "cell_type": "markdown",
   "metadata": {},
   "source": [
    "A NumPy függvényeket is tartalmaz, amelyek szintén elemenkénti műveletekhez használhatóak."
   ]
  },
  {
   "cell_type": "code",
   "execution_count": 44,
   "metadata": {},
   "outputs": [
    {
     "data": {
      "application/javascript": [
       "/* Put everything inside the global mpl namespace */\n",
       "window.mpl = {};\n",
       "\n",
       "\n",
       "mpl.get_websocket_type = function() {\n",
       "    if (typeof(WebSocket) !== 'undefined') {\n",
       "        return WebSocket;\n",
       "    } else if (typeof(MozWebSocket) !== 'undefined') {\n",
       "        return MozWebSocket;\n",
       "    } else {\n",
       "        alert('Your browser does not have WebSocket support.' +\n",
       "              'Please try Chrome, Safari or Firefox ≥ 6. ' +\n",
       "              'Firefox 4 and 5 are also supported but you ' +\n",
       "              'have to enable WebSockets in about:config.');\n",
       "    };\n",
       "}\n",
       "\n",
       "mpl.figure = function(figure_id, websocket, ondownload, parent_element) {\n",
       "    this.id = figure_id;\n",
       "\n",
       "    this.ws = websocket;\n",
       "\n",
       "    this.supports_binary = (this.ws.binaryType != undefined);\n",
       "\n",
       "    if (!this.supports_binary) {\n",
       "        var warnings = document.getElementById(\"mpl-warnings\");\n",
       "        if (warnings) {\n",
       "            warnings.style.display = 'block';\n",
       "            warnings.textContent = (\n",
       "                \"This browser does not support binary websocket messages. \" +\n",
       "                    \"Performance may be slow.\");\n",
       "        }\n",
       "    }\n",
       "\n",
       "    this.imageObj = new Image();\n",
       "\n",
       "    this.context = undefined;\n",
       "    this.message = undefined;\n",
       "    this.canvas = undefined;\n",
       "    this.rubberband_canvas = undefined;\n",
       "    this.rubberband_context = undefined;\n",
       "    this.format_dropdown = undefined;\n",
       "\n",
       "    this.image_mode = 'full';\n",
       "\n",
       "    this.root = $('<div/>');\n",
       "    this._root_extra_style(this.root)\n",
       "    this.root.attr('style', 'display: inline-block');\n",
       "\n",
       "    $(parent_element).append(this.root);\n",
       "\n",
       "    this._init_header(this);\n",
       "    this._init_canvas(this);\n",
       "    this._init_toolbar(this);\n",
       "\n",
       "    var fig = this;\n",
       "\n",
       "    this.waiting = false;\n",
       "\n",
       "    this.ws.onopen =  function () {\n",
       "            fig.send_message(\"supports_binary\", {value: fig.supports_binary});\n",
       "            fig.send_message(\"send_image_mode\", {});\n",
       "            if (mpl.ratio != 1) {\n",
       "                fig.send_message(\"set_dpi_ratio\", {'dpi_ratio': mpl.ratio});\n",
       "            }\n",
       "            fig.send_message(\"refresh\", {});\n",
       "        }\n",
       "\n",
       "    this.imageObj.onload = function() {\n",
       "            if (fig.image_mode == 'full') {\n",
       "                // Full images could contain transparency (where diff images\n",
       "                // almost always do), so we need to clear the canvas so that\n",
       "                // there is no ghosting.\n",
       "                fig.context.clearRect(0, 0, fig.canvas.width, fig.canvas.height);\n",
       "            }\n",
       "            fig.context.drawImage(fig.imageObj, 0, 0);\n",
       "        };\n",
       "\n",
       "    this.imageObj.onunload = function() {\n",
       "        fig.ws.close();\n",
       "    }\n",
       "\n",
       "    this.ws.onmessage = this._make_on_message_function(this);\n",
       "\n",
       "    this.ondownload = ondownload;\n",
       "}\n",
       "\n",
       "mpl.figure.prototype._init_header = function() {\n",
       "    var titlebar = $(\n",
       "        '<div class=\"ui-dialog-titlebar ui-widget-header ui-corner-all ' +\n",
       "        'ui-helper-clearfix\"/>');\n",
       "    var titletext = $(\n",
       "        '<div class=\"ui-dialog-title\" style=\"width: 100%; ' +\n",
       "        'text-align: center; padding: 3px;\"/>');\n",
       "    titlebar.append(titletext)\n",
       "    this.root.append(titlebar);\n",
       "    this.header = titletext[0];\n",
       "}\n",
       "\n",
       "\n",
       "\n",
       "mpl.figure.prototype._canvas_extra_style = function(canvas_div) {\n",
       "\n",
       "}\n",
       "\n",
       "\n",
       "mpl.figure.prototype._root_extra_style = function(canvas_div) {\n",
       "\n",
       "}\n",
       "\n",
       "mpl.figure.prototype._init_canvas = function() {\n",
       "    var fig = this;\n",
       "\n",
       "    var canvas_div = $('<div/>');\n",
       "\n",
       "    canvas_div.attr('style', 'position: relative; clear: both; outline: 0');\n",
       "\n",
       "    function canvas_keyboard_event(event) {\n",
       "        return fig.key_event(event, event['data']);\n",
       "    }\n",
       "\n",
       "    canvas_div.keydown('key_press', canvas_keyboard_event);\n",
       "    canvas_div.keyup('key_release', canvas_keyboard_event);\n",
       "    this.canvas_div = canvas_div\n",
       "    this._canvas_extra_style(canvas_div)\n",
       "    this.root.append(canvas_div);\n",
       "\n",
       "    var canvas = $('<canvas/>');\n",
       "    canvas.addClass('mpl-canvas');\n",
       "    canvas.attr('style', \"left: 0; top: 0; z-index: 0; outline: 0\")\n",
       "\n",
       "    this.canvas = canvas[0];\n",
       "    this.context = canvas[0].getContext(\"2d\");\n",
       "\n",
       "    var backingStore = this.context.backingStorePixelRatio ||\n",
       "\tthis.context.webkitBackingStorePixelRatio ||\n",
       "\tthis.context.mozBackingStorePixelRatio ||\n",
       "\tthis.context.msBackingStorePixelRatio ||\n",
       "\tthis.context.oBackingStorePixelRatio ||\n",
       "\tthis.context.backingStorePixelRatio || 1;\n",
       "\n",
       "    mpl.ratio = (window.devicePixelRatio || 1) / backingStore;\n",
       "\n",
       "    var rubberband = $('<canvas/>');\n",
       "    rubberband.attr('style', \"position: absolute; left: 0; top: 0; z-index: 1;\")\n",
       "\n",
       "    var pass_mouse_events = true;\n",
       "\n",
       "    canvas_div.resizable({\n",
       "        start: function(event, ui) {\n",
       "            pass_mouse_events = false;\n",
       "        },\n",
       "        resize: function(event, ui) {\n",
       "            fig.request_resize(ui.size.width, ui.size.height);\n",
       "        },\n",
       "        stop: function(event, ui) {\n",
       "            pass_mouse_events = true;\n",
       "            fig.request_resize(ui.size.width, ui.size.height);\n",
       "        },\n",
       "    });\n",
       "\n",
       "    function mouse_event_fn(event) {\n",
       "        if (pass_mouse_events)\n",
       "            return fig.mouse_event(event, event['data']);\n",
       "    }\n",
       "\n",
       "    rubberband.mousedown('button_press', mouse_event_fn);\n",
       "    rubberband.mouseup('button_release', mouse_event_fn);\n",
       "    // Throttle sequential mouse events to 1 every 20ms.\n",
       "    rubberband.mousemove('motion_notify', mouse_event_fn);\n",
       "\n",
       "    rubberband.mouseenter('figure_enter', mouse_event_fn);\n",
       "    rubberband.mouseleave('figure_leave', mouse_event_fn);\n",
       "\n",
       "    canvas_div.on(\"wheel\", function (event) {\n",
       "        event = event.originalEvent;\n",
       "        event['data'] = 'scroll'\n",
       "        if (event.deltaY < 0) {\n",
       "            event.step = 1;\n",
       "        } else {\n",
       "            event.step = -1;\n",
       "        }\n",
       "        mouse_event_fn(event);\n",
       "    });\n",
       "\n",
       "    canvas_div.append(canvas);\n",
       "    canvas_div.append(rubberband);\n",
       "\n",
       "    this.rubberband = rubberband;\n",
       "    this.rubberband_canvas = rubberband[0];\n",
       "    this.rubberband_context = rubberband[0].getContext(\"2d\");\n",
       "    this.rubberband_context.strokeStyle = \"#000000\";\n",
       "\n",
       "    this._resize_canvas = function(width, height) {\n",
       "        // Keep the size of the canvas, canvas container, and rubber band\n",
       "        // canvas in synch.\n",
       "        canvas_div.css('width', width)\n",
       "        canvas_div.css('height', height)\n",
       "\n",
       "        canvas.attr('width', width * mpl.ratio);\n",
       "        canvas.attr('height', height * mpl.ratio);\n",
       "        canvas.attr('style', 'width: ' + width + 'px; height: ' + height + 'px;');\n",
       "\n",
       "        rubberband.attr('width', width);\n",
       "        rubberband.attr('height', height);\n",
       "    }\n",
       "\n",
       "    // Set the figure to an initial 600x600px, this will subsequently be updated\n",
       "    // upon first draw.\n",
       "    this._resize_canvas(600, 600);\n",
       "\n",
       "    // Disable right mouse context menu.\n",
       "    $(this.rubberband_canvas).bind(\"contextmenu\",function(e){\n",
       "        return false;\n",
       "    });\n",
       "\n",
       "    function set_focus () {\n",
       "        canvas.focus();\n",
       "        canvas_div.focus();\n",
       "    }\n",
       "\n",
       "    window.setTimeout(set_focus, 100);\n",
       "}\n",
       "\n",
       "mpl.figure.prototype._init_toolbar = function() {\n",
       "    var fig = this;\n",
       "\n",
       "    var nav_element = $('<div/>')\n",
       "    nav_element.attr('style', 'width: 100%');\n",
       "    this.root.append(nav_element);\n",
       "\n",
       "    // Define a callback function for later on.\n",
       "    function toolbar_event(event) {\n",
       "        return fig.toolbar_button_onclick(event['data']);\n",
       "    }\n",
       "    function toolbar_mouse_event(event) {\n",
       "        return fig.toolbar_button_onmouseover(event['data']);\n",
       "    }\n",
       "\n",
       "    for(var toolbar_ind in mpl.toolbar_items) {\n",
       "        var name = mpl.toolbar_items[toolbar_ind][0];\n",
       "        var tooltip = mpl.toolbar_items[toolbar_ind][1];\n",
       "        var image = mpl.toolbar_items[toolbar_ind][2];\n",
       "        var method_name = mpl.toolbar_items[toolbar_ind][3];\n",
       "\n",
       "        if (!name) {\n",
       "            // put a spacer in here.\n",
       "            continue;\n",
       "        }\n",
       "        var button = $('<button/>');\n",
       "        button.addClass('ui-button ui-widget ui-state-default ui-corner-all ' +\n",
       "                        'ui-button-icon-only');\n",
       "        button.attr('role', 'button');\n",
       "        button.attr('aria-disabled', 'false');\n",
       "        button.click(method_name, toolbar_event);\n",
       "        button.mouseover(tooltip, toolbar_mouse_event);\n",
       "\n",
       "        var icon_img = $('<span/>');\n",
       "        icon_img.addClass('ui-button-icon-primary ui-icon');\n",
       "        icon_img.addClass(image);\n",
       "        icon_img.addClass('ui-corner-all');\n",
       "\n",
       "        var tooltip_span = $('<span/>');\n",
       "        tooltip_span.addClass('ui-button-text');\n",
       "        tooltip_span.html(tooltip);\n",
       "\n",
       "        button.append(icon_img);\n",
       "        button.append(tooltip_span);\n",
       "\n",
       "        nav_element.append(button);\n",
       "    }\n",
       "\n",
       "    var fmt_picker_span = $('<span/>');\n",
       "\n",
       "    var fmt_picker = $('<select/>');\n",
       "    fmt_picker.addClass('mpl-toolbar-option ui-widget ui-widget-content');\n",
       "    fmt_picker_span.append(fmt_picker);\n",
       "    nav_element.append(fmt_picker_span);\n",
       "    this.format_dropdown = fmt_picker[0];\n",
       "\n",
       "    for (var ind in mpl.extensions) {\n",
       "        var fmt = mpl.extensions[ind];\n",
       "        var option = $(\n",
       "            '<option/>', {selected: fmt === mpl.default_extension}).html(fmt);\n",
       "        fmt_picker.append(option)\n",
       "    }\n",
       "\n",
       "    // Add hover states to the ui-buttons\n",
       "    $( \".ui-button\" ).hover(\n",
       "        function() { $(this).addClass(\"ui-state-hover\");},\n",
       "        function() { $(this).removeClass(\"ui-state-hover\");}\n",
       "    );\n",
       "\n",
       "    var status_bar = $('<span class=\"mpl-message\"/>');\n",
       "    nav_element.append(status_bar);\n",
       "    this.message = status_bar[0];\n",
       "}\n",
       "\n",
       "mpl.figure.prototype.request_resize = function(x_pixels, y_pixels) {\n",
       "    // Request matplotlib to resize the figure. Matplotlib will then trigger a resize in the client,\n",
       "    // which will in turn request a refresh of the image.\n",
       "    this.send_message('resize', {'width': x_pixels, 'height': y_pixels});\n",
       "}\n",
       "\n",
       "mpl.figure.prototype.send_message = function(type, properties) {\n",
       "    properties['type'] = type;\n",
       "    properties['figure_id'] = this.id;\n",
       "    this.ws.send(JSON.stringify(properties));\n",
       "}\n",
       "\n",
       "mpl.figure.prototype.send_draw_message = function() {\n",
       "    if (!this.waiting) {\n",
       "        this.waiting = true;\n",
       "        this.ws.send(JSON.stringify({type: \"draw\", figure_id: this.id}));\n",
       "    }\n",
       "}\n",
       "\n",
       "\n",
       "mpl.figure.prototype.handle_save = function(fig, msg) {\n",
       "    var format_dropdown = fig.format_dropdown;\n",
       "    var format = format_dropdown.options[format_dropdown.selectedIndex].value;\n",
       "    fig.ondownload(fig, format);\n",
       "}\n",
       "\n",
       "\n",
       "mpl.figure.prototype.handle_resize = function(fig, msg) {\n",
       "    var size = msg['size'];\n",
       "    if (size[0] != fig.canvas.width || size[1] != fig.canvas.height) {\n",
       "        fig._resize_canvas(size[0], size[1]);\n",
       "        fig.send_message(\"refresh\", {});\n",
       "    };\n",
       "}\n",
       "\n",
       "mpl.figure.prototype.handle_rubberband = function(fig, msg) {\n",
       "    var x0 = msg['x0'] / mpl.ratio;\n",
       "    var y0 = (fig.canvas.height - msg['y0']) / mpl.ratio;\n",
       "    var x1 = msg['x1'] / mpl.ratio;\n",
       "    var y1 = (fig.canvas.height - msg['y1']) / mpl.ratio;\n",
       "    x0 = Math.floor(x0) + 0.5;\n",
       "    y0 = Math.floor(y0) + 0.5;\n",
       "    x1 = Math.floor(x1) + 0.5;\n",
       "    y1 = Math.floor(y1) + 0.5;\n",
       "    var min_x = Math.min(x0, x1);\n",
       "    var min_y = Math.min(y0, y1);\n",
       "    var width = Math.abs(x1 - x0);\n",
       "    var height = Math.abs(y1 - y0);\n",
       "\n",
       "    fig.rubberband_context.clearRect(\n",
       "        0, 0, fig.canvas.width, fig.canvas.height);\n",
       "\n",
       "    fig.rubberband_context.strokeRect(min_x, min_y, width, height);\n",
       "}\n",
       "\n",
       "mpl.figure.prototype.handle_figure_label = function(fig, msg) {\n",
       "    // Updates the figure title.\n",
       "    fig.header.textContent = msg['label'];\n",
       "}\n",
       "\n",
       "mpl.figure.prototype.handle_cursor = function(fig, msg) {\n",
       "    var cursor = msg['cursor'];\n",
       "    switch(cursor)\n",
       "    {\n",
       "    case 0:\n",
       "        cursor = 'pointer';\n",
       "        break;\n",
       "    case 1:\n",
       "        cursor = 'default';\n",
       "        break;\n",
       "    case 2:\n",
       "        cursor = 'crosshair';\n",
       "        break;\n",
       "    case 3:\n",
       "        cursor = 'move';\n",
       "        break;\n",
       "    }\n",
       "    fig.rubberband_canvas.style.cursor = cursor;\n",
       "}\n",
       "\n",
       "mpl.figure.prototype.handle_message = function(fig, msg) {\n",
       "    fig.message.textContent = msg['message'];\n",
       "}\n",
       "\n",
       "mpl.figure.prototype.handle_draw = function(fig, msg) {\n",
       "    // Request the server to send over a new figure.\n",
       "    fig.send_draw_message();\n",
       "}\n",
       "\n",
       "mpl.figure.prototype.handle_image_mode = function(fig, msg) {\n",
       "    fig.image_mode = msg['mode'];\n",
       "}\n",
       "\n",
       "mpl.figure.prototype.updated_canvas_event = function() {\n",
       "    // Called whenever the canvas gets updated.\n",
       "    this.send_message(\"ack\", {});\n",
       "}\n",
       "\n",
       "// A function to construct a web socket function for onmessage handling.\n",
       "// Called in the figure constructor.\n",
       "mpl.figure.prototype._make_on_message_function = function(fig) {\n",
       "    return function socket_on_message(evt) {\n",
       "        if (evt.data instanceof Blob) {\n",
       "            /* FIXME: We get \"Resource interpreted as Image but\n",
       "             * transferred with MIME type text/plain:\" errors on\n",
       "             * Chrome.  But how to set the MIME type?  It doesn't seem\n",
       "             * to be part of the websocket stream */\n",
       "            evt.data.type = \"image/png\";\n",
       "\n",
       "            /* Free the memory for the previous frames */\n",
       "            if (fig.imageObj.src) {\n",
       "                (window.URL || window.webkitURL).revokeObjectURL(\n",
       "                    fig.imageObj.src);\n",
       "            }\n",
       "\n",
       "            fig.imageObj.src = (window.URL || window.webkitURL).createObjectURL(\n",
       "                evt.data);\n",
       "            fig.updated_canvas_event();\n",
       "            fig.waiting = false;\n",
       "            return;\n",
       "        }\n",
       "        else if (typeof evt.data === 'string' && evt.data.slice(0, 21) == \"data:image/png;base64\") {\n",
       "            fig.imageObj.src = evt.data;\n",
       "            fig.updated_canvas_event();\n",
       "            fig.waiting = false;\n",
       "            return;\n",
       "        }\n",
       "\n",
       "        var msg = JSON.parse(evt.data);\n",
       "        var msg_type = msg['type'];\n",
       "\n",
       "        // Call the  \"handle_{type}\" callback, which takes\n",
       "        // the figure and JSON message as its only arguments.\n",
       "        try {\n",
       "            var callback = fig[\"handle_\" + msg_type];\n",
       "        } catch (e) {\n",
       "            console.log(\"No handler for the '\" + msg_type + \"' message type: \", msg);\n",
       "            return;\n",
       "        }\n",
       "\n",
       "        if (callback) {\n",
       "            try {\n",
       "                // console.log(\"Handling '\" + msg_type + \"' message: \", msg);\n",
       "                callback(fig, msg);\n",
       "            } catch (e) {\n",
       "                console.log(\"Exception inside the 'handler_\" + msg_type + \"' callback:\", e, e.stack, msg);\n",
       "            }\n",
       "        }\n",
       "    };\n",
       "}\n",
       "\n",
       "// from http://stackoverflow.com/questions/1114465/getting-mouse-location-in-canvas\n",
       "mpl.findpos = function(e) {\n",
       "    //this section is from http://www.quirksmode.org/js/events_properties.html\n",
       "    var targ;\n",
       "    if (!e)\n",
       "        e = window.event;\n",
       "    if (e.target)\n",
       "        targ = e.target;\n",
       "    else if (e.srcElement)\n",
       "        targ = e.srcElement;\n",
       "    if (targ.nodeType == 3) // defeat Safari bug\n",
       "        targ = targ.parentNode;\n",
       "\n",
       "    // jQuery normalizes the pageX and pageY\n",
       "    // pageX,Y are the mouse positions relative to the document\n",
       "    // offset() returns the position of the element relative to the document\n",
       "    var x = e.pageX - $(targ).offset().left;\n",
       "    var y = e.pageY - $(targ).offset().top;\n",
       "\n",
       "    return {\"x\": x, \"y\": y};\n",
       "};\n",
       "\n",
       "/*\n",
       " * return a copy of an object with only non-object keys\n",
       " * we need this to avoid circular references\n",
       " * http://stackoverflow.com/a/24161582/3208463\n",
       " */\n",
       "function simpleKeys (original) {\n",
       "  return Object.keys(original).reduce(function (obj, key) {\n",
       "    if (typeof original[key] !== 'object')\n",
       "        obj[key] = original[key]\n",
       "    return obj;\n",
       "  }, {});\n",
       "}\n",
       "\n",
       "mpl.figure.prototype.mouse_event = function(event, name) {\n",
       "    var canvas_pos = mpl.findpos(event)\n",
       "\n",
       "    if (name === 'button_press')\n",
       "    {\n",
       "        this.canvas.focus();\n",
       "        this.canvas_div.focus();\n",
       "    }\n",
       "\n",
       "    var x = canvas_pos.x * mpl.ratio;\n",
       "    var y = canvas_pos.y * mpl.ratio;\n",
       "\n",
       "    this.send_message(name, {x: x, y: y, button: event.button,\n",
       "                             step: event.step,\n",
       "                             guiEvent: simpleKeys(event)});\n",
       "\n",
       "    /* This prevents the web browser from automatically changing to\n",
       "     * the text insertion cursor when the button is pressed.  We want\n",
       "     * to control all of the cursor setting manually through the\n",
       "     * 'cursor' event from matplotlib */\n",
       "    event.preventDefault();\n",
       "    return false;\n",
       "}\n",
       "\n",
       "mpl.figure.prototype._key_event_extra = function(event, name) {\n",
       "    // Handle any extra behaviour associated with a key event\n",
       "}\n",
       "\n",
       "mpl.figure.prototype.key_event = function(event, name) {\n",
       "\n",
       "    // Prevent repeat events\n",
       "    if (name == 'key_press')\n",
       "    {\n",
       "        if (event.which === this._key)\n",
       "            return;\n",
       "        else\n",
       "            this._key = event.which;\n",
       "    }\n",
       "    if (name == 'key_release')\n",
       "        this._key = null;\n",
       "\n",
       "    var value = '';\n",
       "    if (event.ctrlKey && event.which != 17)\n",
       "        value += \"ctrl+\";\n",
       "    if (event.altKey && event.which != 18)\n",
       "        value += \"alt+\";\n",
       "    if (event.shiftKey && event.which != 16)\n",
       "        value += \"shift+\";\n",
       "\n",
       "    value += 'k';\n",
       "    value += event.which.toString();\n",
       "\n",
       "    this._key_event_extra(event, name);\n",
       "\n",
       "    this.send_message(name, {key: value,\n",
       "                             guiEvent: simpleKeys(event)});\n",
       "    return false;\n",
       "}\n",
       "\n",
       "mpl.figure.prototype.toolbar_button_onclick = function(name) {\n",
       "    if (name == 'download') {\n",
       "        this.handle_save(this, null);\n",
       "    } else {\n",
       "        this.send_message(\"toolbar_button\", {name: name});\n",
       "    }\n",
       "};\n",
       "\n",
       "mpl.figure.prototype.toolbar_button_onmouseover = function(tooltip) {\n",
       "    this.message.textContent = tooltip;\n",
       "};\n",
       "mpl.toolbar_items = [[\"Home\", \"Reset original view\", \"fa fa-home icon-home\", \"home\"], [\"Back\", \"Back to  previous view\", \"fa fa-arrow-left icon-arrow-left\", \"back\"], [\"Forward\", \"Forward to next view\", \"fa fa-arrow-right icon-arrow-right\", \"forward\"], [\"\", \"\", \"\", \"\"], [\"Pan\", \"Pan axes with left mouse, zoom with right\", \"fa fa-arrows icon-move\", \"pan\"], [\"Zoom\", \"Zoom to rectangle\", \"fa fa-square-o icon-check-empty\", \"zoom\"], [\"\", \"\", \"\", \"\"], [\"Download\", \"Download plot\", \"fa fa-floppy-o icon-save\", \"download\"]];\n",
       "\n",
       "mpl.extensions = [\"eps\", \"jpeg\", \"pdf\", \"png\", \"ps\", \"raw\", \"svg\", \"tif\"];\n",
       "\n",
       "mpl.default_extension = \"png\";var comm_websocket_adapter = function(comm) {\n",
       "    // Create a \"websocket\"-like object which calls the given IPython comm\n",
       "    // object with the appropriate methods. Currently this is a non binary\n",
       "    // socket, so there is still some room for performance tuning.\n",
       "    var ws = {};\n",
       "\n",
       "    ws.close = function() {\n",
       "        comm.close()\n",
       "    };\n",
       "    ws.send = function(m) {\n",
       "        //console.log('sending', m);\n",
       "        comm.send(m);\n",
       "    };\n",
       "    // Register the callback with on_msg.\n",
       "    comm.on_msg(function(msg) {\n",
       "        //console.log('receiving', msg['content']['data'], msg);\n",
       "        // Pass the mpl event to the overriden (by mpl) onmessage function.\n",
       "        ws.onmessage(msg['content']['data'])\n",
       "    });\n",
       "    return ws;\n",
       "}\n",
       "\n",
       "mpl.mpl_figure_comm = function(comm, msg) {\n",
       "    // This is the function which gets called when the mpl process\n",
       "    // starts-up an IPython Comm through the \"matplotlib\" channel.\n",
       "\n",
       "    var id = msg.content.data.id;\n",
       "    // Get hold of the div created by the display call when the Comm\n",
       "    // socket was opened in Python.\n",
       "    var element = $(\"#\" + id);\n",
       "    var ws_proxy = comm_websocket_adapter(comm)\n",
       "\n",
       "    function ondownload(figure, format) {\n",
       "        window.open(figure.imageObj.src);\n",
       "    }\n",
       "\n",
       "    var fig = new mpl.figure(id, ws_proxy,\n",
       "                           ondownload,\n",
       "                           element.get(0));\n",
       "\n",
       "    // Call onopen now - mpl needs it, as it is assuming we've passed it a real\n",
       "    // web socket which is closed, not our websocket->open comm proxy.\n",
       "    ws_proxy.onopen();\n",
       "\n",
       "    fig.parent_element = element.get(0);\n",
       "    fig.cell_info = mpl.find_output_cell(\"<div id='\" + id + \"'></div>\");\n",
       "    if (!fig.cell_info) {\n",
       "        console.error(\"Failed to find cell for figure\", id, fig);\n",
       "        return;\n",
       "    }\n",
       "\n",
       "    var output_index = fig.cell_info[2]\n",
       "    var cell = fig.cell_info[0];\n",
       "\n",
       "};\n",
       "\n",
       "mpl.figure.prototype.handle_close = function(fig, msg) {\n",
       "    var width = fig.canvas.width/mpl.ratio\n",
       "    fig.root.unbind('remove')\n",
       "\n",
       "    // Update the output cell to use the data from the current canvas.\n",
       "    fig.push_to_output();\n",
       "    var dataURL = fig.canvas.toDataURL();\n",
       "    // Re-enable the keyboard manager in IPython - without this line, in FF,\n",
       "    // the notebook keyboard shortcuts fail.\n",
       "    IPython.keyboard_manager.enable()\n",
       "    $(fig.parent_element).html('<img src=\"' + dataURL + '\" width=\"' + width + '\">');\n",
       "    fig.close_ws(fig, msg);\n",
       "}\n",
       "\n",
       "mpl.figure.prototype.close_ws = function(fig, msg){\n",
       "    fig.send_message('closing', msg);\n",
       "    // fig.ws.close()\n",
       "}\n",
       "\n",
       "mpl.figure.prototype.push_to_output = function(remove_interactive) {\n",
       "    // Turn the data on the canvas into data in the output cell.\n",
       "    var width = this.canvas.width/mpl.ratio\n",
       "    var dataURL = this.canvas.toDataURL();\n",
       "    this.cell_info[1]['text/html'] = '<img src=\"' + dataURL + '\" width=\"' + width + '\">';\n",
       "}\n",
       "\n",
       "mpl.figure.prototype.updated_canvas_event = function() {\n",
       "    // Tell IPython that the notebook contents must change.\n",
       "    IPython.notebook.set_dirty(true);\n",
       "    this.send_message(\"ack\", {});\n",
       "    var fig = this;\n",
       "    // Wait a second, then push the new image to the DOM so\n",
       "    // that it is saved nicely (might be nice to debounce this).\n",
       "    setTimeout(function () { fig.push_to_output() }, 1000);\n",
       "}\n",
       "\n",
       "mpl.figure.prototype._init_toolbar = function() {\n",
       "    var fig = this;\n",
       "\n",
       "    var nav_element = $('<div/>')\n",
       "    nav_element.attr('style', 'width: 100%');\n",
       "    this.root.append(nav_element);\n",
       "\n",
       "    // Define a callback function for later on.\n",
       "    function toolbar_event(event) {\n",
       "        return fig.toolbar_button_onclick(event['data']);\n",
       "    }\n",
       "    function toolbar_mouse_event(event) {\n",
       "        return fig.toolbar_button_onmouseover(event['data']);\n",
       "    }\n",
       "\n",
       "    for(var toolbar_ind in mpl.toolbar_items){\n",
       "        var name = mpl.toolbar_items[toolbar_ind][0];\n",
       "        var tooltip = mpl.toolbar_items[toolbar_ind][1];\n",
       "        var image = mpl.toolbar_items[toolbar_ind][2];\n",
       "        var method_name = mpl.toolbar_items[toolbar_ind][3];\n",
       "\n",
       "        if (!name) { continue; };\n",
       "\n",
       "        var button = $('<button class=\"btn btn-default\" href=\"#\" title=\"' + name + '\"><i class=\"fa ' + image + ' fa-lg\"></i></button>');\n",
       "        button.click(method_name, toolbar_event);\n",
       "        button.mouseover(tooltip, toolbar_mouse_event);\n",
       "        nav_element.append(button);\n",
       "    }\n",
       "\n",
       "    // Add the status bar.\n",
       "    var status_bar = $('<span class=\"mpl-message\" style=\"text-align:right; float: right;\"/>');\n",
       "    nav_element.append(status_bar);\n",
       "    this.message = status_bar[0];\n",
       "\n",
       "    // Add the close button to the window.\n",
       "    var buttongrp = $('<div class=\"btn-group inline pull-right\"></div>');\n",
       "    var button = $('<button class=\"btn btn-mini btn-primary\" href=\"#\" title=\"Stop Interaction\"><i class=\"fa fa-power-off icon-remove icon-large\"></i></button>');\n",
       "    button.click(function (evt) { fig.handle_close(fig, {}); } );\n",
       "    button.mouseover('Stop Interaction', toolbar_mouse_event);\n",
       "    buttongrp.append(button);\n",
       "    var titlebar = this.root.find($('.ui-dialog-titlebar'));\n",
       "    titlebar.prepend(buttongrp);\n",
       "}\n",
       "\n",
       "mpl.figure.prototype._root_extra_style = function(el){\n",
       "    var fig = this\n",
       "    el.on(\"remove\", function(){\n",
       "\tfig.close_ws(fig, {});\n",
       "    });\n",
       "}\n",
       "\n",
       "mpl.figure.prototype._canvas_extra_style = function(el){\n",
       "    // this is important to make the div 'focusable\n",
       "    el.attr('tabindex', 0)\n",
       "    // reach out to IPython and tell the keyboard manager to turn it's self\n",
       "    // off when our div gets focus\n",
       "\n",
       "    // location in version 3\n",
       "    if (IPython.notebook.keyboard_manager) {\n",
       "        IPython.notebook.keyboard_manager.register_events(el);\n",
       "    }\n",
       "    else {\n",
       "        // location in version 2\n",
       "        IPython.keyboard_manager.register_events(el);\n",
       "    }\n",
       "\n",
       "}\n",
       "\n",
       "mpl.figure.prototype._key_event_extra = function(event, name) {\n",
       "    var manager = IPython.notebook.keyboard_manager;\n",
       "    if (!manager)\n",
       "        manager = IPython.keyboard_manager;\n",
       "\n",
       "    // Check for shift+enter\n",
       "    if (event.shiftKey && event.which == 13) {\n",
       "        this.canvas_div.blur();\n",
       "        event.shiftKey = false;\n",
       "        // Send a \"J\" for go to next cell\n",
       "        event.which = 74;\n",
       "        event.keyCode = 74;\n",
       "        manager.command_mode();\n",
       "        manager.handle_keydown(event);\n",
       "    }\n",
       "}\n",
       "\n",
       "mpl.figure.prototype.handle_save = function(fig, msg) {\n",
       "    fig.ondownload(fig, null);\n",
       "}\n",
       "\n",
       "\n",
       "mpl.find_output_cell = function(html_output) {\n",
       "    // Return the cell and output element which can be found *uniquely* in the notebook.\n",
       "    // Note - this is a bit hacky, but it is done because the \"notebook_saving.Notebook\"\n",
       "    // IPython event is triggered only after the cells have been serialised, which for\n",
       "    // our purposes (turning an active figure into a static one), is too late.\n",
       "    var cells = IPython.notebook.get_cells();\n",
       "    var ncells = cells.length;\n",
       "    for (var i=0; i<ncells; i++) {\n",
       "        var cell = cells[i];\n",
       "        if (cell.cell_type === 'code'){\n",
       "            for (var j=0; j<cell.output_area.outputs.length; j++) {\n",
       "                var data = cell.output_area.outputs[j];\n",
       "                if (data.data) {\n",
       "                    // IPython >= 3 moved mimebundle to data attribute of output\n",
       "                    data = data.data;\n",
       "                }\n",
       "                if (data['text/html'] == html_output) {\n",
       "                    return [cell, data, j];\n",
       "                }\n",
       "            }\n",
       "        }\n",
       "    }\n",
       "}\n",
       "\n",
       "// Register the function which deals with the matplotlib target/channel.\n",
       "// The kernel may be null if the page has been refreshed.\n",
       "if (IPython.notebook.kernel != null) {\n",
       "    IPython.notebook.kernel.comm_manager.register_target('matplotlib', mpl.mpl_figure_comm);\n",
       "}\n"
      ],
      "text/plain": [
       "<IPython.core.display.Javascript object>"
      ]
     },
     "metadata": {},
     "output_type": "display_data"
    },
    {
     "data": {
      "text/html": [
       "<img src=\"data:image/png;base64,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\" width=\"640\">"
      ],
      "text/plain": [
       "<IPython.core.display.HTML object>"
      ]
     },
     "metadata": {},
     "output_type": "display_data"
    }
   ],
   "source": [
    "szinusz=np.sin(x)\n",
    "koszinusz=np.cos(x)\n",
    "plt.plot(x, szinusz)\n",
    "plt.plot(x, koszinusz)\n",
    "plt.show()"
   ]
  },
  {
   "cell_type": "markdown",
   "metadata": {},
   "source": [
    "A korábbiakban bemutatott alapelvek szerint a * operátor elemeként szorzást jelent. A mátrixok szorzása a @ operátorral történik."
   ]
  },
  {
   "cell_type": "code",
   "execution_count": 33,
   "metadata": {},
   "outputs": [
    {
     "data": {
      "text/plain": [
       "array([[ 0.8660254,  0.5      ],\n",
       "       [-0.5      ,  0.8660254]])"
      ]
     },
     "execution_count": 33,
     "metadata": {},
     "output_type": "execute_result"
    }
   ],
   "source": [
    "#Forgatás 30 fokkal, a forgatómátrix\n",
    "fszog=np.pi/6\n",
    "fmat=np.array([[np.cos(fszog), np.sin(fszog)],[-np.sin(fszog), np.cos(fszog)]])\n",
    "fmat"
   ]
  },
  {
   "cell_type": "code",
   "execution_count": 34,
   "metadata": {},
   "outputs": [
    {
     "data": {
      "text/plain": [
       "array([22.37531755, 13.75518683])"
      ]
     },
     "execution_count": 34,
     "metadata": {},
     "output_type": "execute_result"
    }
   ],
   "source": [
    "#A forgatómátrix szorzása a transzformálandó mátrixszal\n",
    "koord=np.array([12.5, 23.1])\n",
    "trkoord=fmat @ koord\n",
    "trkoord"
   ]
  },
  {
   "cell_type": "markdown",
   "metadata": {},
   "source": [
    "További lehetőségeink is vannak a mátrixszokkal. Determinánst, inverzet, transzponáltat számíthatunk. A sajátérték és a sajátvektor számítására is van lehetőség."
   ]
  },
  {
   "cell_type": "code",
   "execution_count": 35,
   "metadata": {},
   "outputs": [
    {
     "data": {
      "text/plain": [
       "array([[ 0.8660254, -0.5      ],\n",
       "       [ 0.5      ,  0.8660254]])"
      ]
     },
     "execution_count": 35,
     "metadata": {},
     "output_type": "execute_result"
    }
   ],
   "source": [
    "fmat.T"
   ]
  },
  {
   "cell_type": "code",
   "execution_count": 36,
   "metadata": {},
   "outputs": [
    {
     "data": {
      "text/plain": [
       "array([[ 0.8660254, -0.5      ],\n",
       "       [ 0.5      ,  0.8660254]])"
      ]
     },
     "execution_count": 36,
     "metadata": {},
     "output_type": "execute_result"
    }
   ],
   "source": [
    "fmat.transpose()"
   ]
  },
  {
   "cell_type": "code",
   "execution_count": 37,
   "metadata": {},
   "outputs": [
    {
     "data": {
      "text/plain": [
       "array([[ 0.8660254, -0.5      ],\n",
       "       [ 0.5      ,  0.8660254]])"
      ]
     },
     "execution_count": 37,
     "metadata": {},
     "output_type": "execute_result"
    }
   ],
   "source": [
    "np.linalg.inv(fmat)"
   ]
  },
  {
   "cell_type": "code",
   "execution_count": 38,
   "metadata": {},
   "outputs": [
    {
     "data": {
      "text/plain": [
       "1.0"
      ]
     },
     "execution_count": 38,
     "metadata": {},
     "output_type": "execute_result"
    }
   ],
   "source": [
    "np.linalg.det(fmat)"
   ]
  },
  {
   "cell_type": "code",
   "execution_count": 39,
   "metadata": {},
   "outputs": [
    {
     "data": {
      "text/plain": [
       "(array([0.8660254+0.5j, 0.8660254-0.5j]),\n",
       " array([[0.70710678+0.j        , 0.70710678-0.j        ],\n",
       "        [0.        +0.70710678j, 0.        -0.70710678j]]))"
      ]
     },
     "execution_count": 39,
     "metadata": {},
     "output_type": "execute_result"
    }
   ],
   "source": [
    "np.linalg.eig(fmat)"
   ]
  },
  {
   "cell_type": "code",
   "execution_count": 40,
   "metadata": {},
   "outputs": [
    {
     "data": {
      "text/plain": [
       "array([0.8660254+0.5j, 0.8660254-0.5j])"
      ]
     },
     "execution_count": 40,
     "metadata": {},
     "output_type": "execute_result"
    }
   ],
   "source": [
    "np.linalg.eigvals(fmat)"
   ]
  },
  {
   "cell_type": "markdown",
   "metadata": {},
   "source": [
    "A fenti példákban használt 2D forgatómátrixnak nincs valós sajátértéke, ezért nézzünk olyanokat, amelyeknek van."
   ]
  },
  {
   "cell_type": "code",
   "execution_count": 41,
   "metadata": {},
   "outputs": [
    {
     "data": {
      "text/plain": [
       "(array([ 1., -1.]), array([[ 0.70710678, -0.70710678],\n",
       "        [ 0.70710678,  0.70710678]]))"
      ]
     },
     "execution_count": 41,
     "metadata": {},
     "output_type": "execute_result"
    }
   ],
   "source": [
    "tukrozes=np.array([[0.0,1.0],[1.0,0.0]])\n",
    "np.linalg.eig(tukrozes)"
   ]
  },
  {
   "cell_type": "code",
   "execution_count": 42,
   "metadata": {},
   "outputs": [
    {
     "data": {
      "text/plain": [
       "(array([0.8660254+0.5j, 0.8660254-0.5j, 1.       +0.j ]),\n",
       " array([[0.70710678+0.j        , 0.70710678-0.j        ,\n",
       "         0.        +0.j        ],\n",
       "        [0.        +0.70710678j, 0.        -0.70710678j,\n",
       "         0.        +0.j        ],\n",
       "        [0.        +0.j        , 0.        -0.j        ,\n",
       "         1.        +0.j        ]]))"
      ]
     },
     "execution_count": 42,
     "metadata": {},
     "output_type": "execute_result"
    }
   ],
   "source": [
    "f3dz=np.array([[ np.cos(fszog), np.sin(fszog), 0.0],\n",
    "               [-np.sin(fszog), np.cos(fszog), 0.0],\n",
    "               [ 0.0,           0.0,           1.0]])\n",
    "np.linalg.eig(f3dz)"
   ]
  }
 ],
 "metadata": {
  "kernelspec": {
   "display_name": "Python 3",
   "language": "python",
   "name": "python3"
  },
  "language_info": {
   "codemirror_mode": {
    "name": "ipython",
    "version": 3
   },
   "file_extension": ".py",
   "mimetype": "text/x-python",
   "name": "python",
   "nbconvert_exporter": "python",
   "pygments_lexer": "ipython3",
   "version": "3.6.9"
  }
 },
 "nbformat": 4,
 "nbformat_minor": 2
}
