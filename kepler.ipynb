{
 "cells": [
  {
   "cell_type": "markdown",
   "metadata": {},
   "source": [
    "# Calculate a satellite position from Keplerian orbital parameters\n",
    "The Keplerian motion can be derived from the Newton'a laws, if the bodies are points and there are not any perturbation.\n",
    "## The Keplerian orbital parameters\n",
    "Each satellite has six Keplerian parameters:\n",
    "\n",
    "|name|notation|dimension|variable name in the program|\n",
    "|-----|-----|-----|-----|\n",
    "|Semimajor axis of orbital ellipse|$a$|distance|a|\n",
    "|Numerical eccentricity of ellipse|$e$|-|ecc|\n",
    "|Epoch of perigee passage|$T_{0}$|time|t0|\n",
    "|Right ascension of ascending node|$\\Omega$|angle|uom|\n",
    "|Inclination of orbital plane|$i$|angle|i|\n",
    "|Argument of perigee|$\\omega$|angle|low|\n",
    "\n",
    "\n",
    "The calculation needs and seventh value: the product of G and the earth’s mass: $\\mu_{Earth}=m_{Earth}G=3.986004418\\cdot10^{14}\\frac{m^{3}}{s^{2}}$"
   ]
  },
  {
   "cell_type": "code",
   "execution_count": 1,
   "metadata": {},
   "outputs": [],
   "source": [
    "# import the required functions and constant from the math module\n",
    "from math import pi, sqrt, sin, cos, tan, atan, atan2\n",
    "#and import the numpy module for the matrice calculations\n",
    "import numpy as np\n",
    "\n",
    "#Keplerian parameters of the satellite:\n",
    "#semimajor axis of orbital ellipse:\n",
    "a=26559821.15\n",
    "#numerical eccentricity of ellipse:\n",
    "#generally denoted by e, but this may be means the base of the natural logarithm\n",
    "ecc=0.0025\n",
    "#right ascension of ascending node:\n",
    "#generally denoted by Upper case letter greek OMega\n",
    "uom=272.8501*(pi/180)\n",
    "#Inclination of orbital plane:\n",
    "i=55.054*(pi/180)\n",
    "#argument of perigee:\n",
    "#generally denoted by Lower case letter greek OMega\n",
    "lom=12.354*(pi/180)\n",
    "#Epoch of perigee passage:\n",
    "t0=0.0\n",
    "\n",
    "#The product of G and the earth’s mass:\n",
    "mu=398600441800000\n",
    "\n",
    "#The epoch, when the position will be calculated:\n",
    "et=1000.0"
   ]
  },
  {
   "cell_type": "markdown",
   "metadata": {},
   "source": [
    "## Calculations in the orbital plane\n",
    "The firs step is the calculation of the mean angular velocity:\n",
    "\n",
    "$$n=\\sqrt{\\frac{\\mu}{a^{3}}}$$\n",
    "\n",
    "$$P=\\frac{2\\pi}{n}$$\n",
    "\n"
   ]
  },
  {
   "cell_type": "code",
   "execution_count": 2,
   "metadata": {},
   "outputs": [
    {
     "data": {
      "text/plain": [
       "(0.00014585830706265586, 43077.32232543011)"
      ]
     },
     "execution_count": 2,
     "metadata": {},
     "output_type": "execute_result"
    }
   ],
   "source": [
    "#mean angular satellite velocity:\n",
    "n=sqrt(mu/a**3)\n",
    "#revolution period:\n",
    "period=(2*pi)/n\n",
    "n, period"
   ]
  },
  {
   "cell_type": "markdown",
   "metadata": {},
   "source": [
    "The next calculated value is the mean anomaly:\n",
    "\n",
    "$$M=n\\left(t-T_{0}\\right)$$"
   ]
  },
  {
   "cell_type": "code",
   "execution_count": 3,
   "metadata": {},
   "outputs": [
    {
     "data": {
      "text/plain": [
       "(0.14585830706265585, 8.357065401613388)"
      ]
     },
     "execution_count": 3,
     "metadata": {},
     "output_type": "execute_result"
    }
   ],
   "source": [
    "#time from the initial epoch:\n",
    "t=et-t0\n",
    "#mean anomaly:\n",
    "ma=n*t\n",
    "ma, ma*(180/pi)"
   ]
  },
  {
   "cell_type": "markdown",
   "metadata": {},
   "source": [
    "The eccentric anomaly is calculated by an iteration method:\n",
    "\n",
    "$$E_{INITIAL}=M$$\n",
    "\n",
    "$$E_{NEW}=M+e\\cdot\\sin E_{OLD}$$"
   ]
  },
  {
   "cell_type": "code",
   "execution_count": 4,
   "metadata": {},
   "outputs": [
    {
     "data": {
      "text/plain": [
       "(0.14622256219750707, 8.377935683506331)"
      ]
     },
     "execution_count": 4,
     "metadata": {},
     "output_type": "execute_result"
    }
   ],
   "source": [
    "#the initial value is the mean anomaly\n",
    "ea=ma\n",
    "#the iteration loop\n",
    "while True:\n",
    "    old_ea=ea\n",
    "    ea=ma+ecc*sin(ea)\n",
    "    if abs(ea-old_ea)<0.0000000000001:\n",
    "        break\n",
    "ea, ea*(180/pi)"
   ]
  },
  {
   "cell_type": "markdown",
   "metadata": {},
   "source": [
    "The true anomaly calculated by a complicated formula:\n",
    "\n",
    "$$\\upsilon=2\\arctan\\left(\\sqrt{\\frac{1+e}{1-e}}\\tan\\frac{E}{2}\\right)$$\n",
    "\n",
    "The program has to watch the true return value of the arcus tangent function, which must be similar than the eccentric anomaly."
   ]
  },
  {
   "cell_type": "code",
   "execution_count": 5,
   "metadata": {},
   "outputs": [
    {
     "data": {
      "text/plain": [
       "(0.14658726891662222,\n",
       " 8.398831839271692,\n",
       " 0.14658726891662224,\n",
       " 8.398831839271693)"
      ]
     },
     "execution_count": 5,
     "metadata": {},
     "output_type": "execute_result"
    }
   ],
   "source": [
    "halfea=ea/2\n",
    "if (halfea/pi)%1==0.5:\n",
    "    halfta=halfea\n",
    "else:\n",
    "    halfta=atan(sqrt((1+ecc)/(1-ecc))*tan(halfea))\n",
    "    diff_period=round((halfea-halfta)/pi)\n",
    "    halfta+=pi*diff_period\n",
    "ta=2*halfta\n",
    "\n",
    "#Another method\n",
    "ta2=2*(atan2(sqrt((1+ecc)/(1-ecc))*sin(ea/2),cos(ea/2))%pi)\n",
    "\n",
    "ta, ta*(180/pi), ta2, ta2*(180/pi)"
   ]
  },
  {
   "cell_type": "markdown",
   "metadata": {},
   "source": [
    "If the value of the true anomaly is known, the coordinates in the orbital plane can be calculated:\n",
    "\n",
    "$$r=a\\left(1-e\\cdot\\cos E\\right)=\\frac{a\\left(1-e^{2}\\right)}{1+e\\cdot\\cos\\upsilon}$$\n",
    "\n",
    "$$x=a\\left(\\cos E-e\\right)$$\n",
    "\n",
    "$$y=a\\left(\\sqrt{1-e^{2}}\\sin E\\right)$$\n",
    "\n",
    "$$x=r\\cdot\\cos\\upsilon$$\n",
    "\n",
    "$$y=r\\cdot\\sin\\upsilon$$\n",
    "\n",
    "$$v_{x}=-\\frac{na^{2}}{r}\\sin E=-\\sqrt{\\frac{\\mu}{a\\left(1-e^{2}\\right)}}\\sin\\upsilon$$\n",
    "\n",
    "$$v_{x}=\\frac{na^{2}}{r}\\sqrt{1-e^{2}}\\cos E=\\sqrt{\\frac{\\mu}{a\\left(1-e^{2}\\right)}}\\left(\\cos\\upsilon+e\\right)$$"
   ]
  },
  {
   "cell_type": "code",
   "execution_count": 6,
   "metadata": {},
   "outputs": [
    {
     "name": "stdout",
     "output_type": "stream",
     "text": [
      "26209988.87600512 3869808.4006395717\n",
      "26209988.87600512 3869808.400639572\n",
      "-565.8449823097736 3842.1203530338057\n"
     ]
    }
   ],
   "source": [
    "#the distance from the Earth's centre:\n",
    "r=a*(1-ecc*cos(ea))\n",
    "#the coordinates in the orbital plane:\n",
    "ux=a*(cos(ea)-ecc)\n",
    "uy=a*sqrt(1-ecc**2)*sin(ea)\n",
    "print(ux, uy)\n",
    "#check the calculations:\n",
    "print(r*cos(ta), r*sin(ta))\n",
    "#calculate the velocity vector in the orbital plane:\n",
    "velpar=sqrt(mu/(a*(1-ecc**2)))\n",
    "vx=-velpar*sin(ta)\n",
    "vy=velpar*(cos(ta)+ecc)\n",
    "print(vx, vy)"
   ]
  },
  {
   "cell_type": "markdown",
   "metadata": {},
   "source": [
    "## Calculate the 3D position\n",
    "The transformation between the orbital plane (the third coordinates is 0) and the 3D space depends from three Keplerian parameters:\n",
    "\n",
    "$$R=R_{Z}\\left(-\\Omega\\right)\\cdot R_{X}\\left(-i\\right)\\cdot R_{Z}\\left(-\\omega\\right)$$\n",
    "\n",
    "$$R_{Z}\\left(-\\Omega\\right)=\\left[\\begin{array}{ccc}\n",
    "\\cos\\Omega & -\\sin\\Omega & 0\\\\\n",
    "\\sin\\Omega & \\cos\\Omega & 0\\\\\n",
    "0 & 0 & 1\n",
    "\\end{array}\\right]$$\n",
    "\n",
    "$$R_{X}\\left(-i\\right)=\\left[\\begin{array}{ccc}\n",
    "1 & 0 & 0\\\\\n",
    "0 & \\cos i & -\\sin i\\\\\n",
    "0 & \\sin i & \\cos i\n",
    "\\end{array}\\right]$$\n",
    "\n",
    "$$R_{Z}\\left(-\\omega\\right)=\\left[\\begin{array}{ccc}\n",
    "\\cos\\omega & -\\sin\\omega & 0\\\\\n",
    "\\sin\\omega & \\cos\\omega & 0\\\\\n",
    "0 & 0 & 1\n",
    "\\end{array}\\right]$$\n",
    "\n",
    "The resultalnt matrix with symbols:\n",
    "\n",
    "$$R=\\left[\\begin{array}{ccc}\n",
    "\\cos\\varOmega\\cos\\omega-\\sin\\varOmega\\sin\\omega\\cos i & -\\cos\\varOmega\\sin\\omega-\\sin\\varOmega\\cos\\omega\\cos i & \\sin\\varOmega\\sin i\\\\\n",
    "\\sin\\varOmega\\cos\\omega+\\cos\\varOmega\\sin\\omega\\cos i & -\\sin\\varOmega\\sin\\omega+\\cos\\varOmega\\cos\\omega\\cos i & -\\cos\\Omega\\sin i\\\\\n",
    "\\sin\\omega\\sin i & \\cos\\omega\\sin i & \\cos i\n",
    "\\end{array}\\right]$$\n",
    "\n",
    "The program calculates by numerical multiplication used the numpy."
   ]
  },
  {
   "cell_type": "code",
   "execution_count": 7,
   "metadata": {},
   "outputs": [
    {
     "name": "stdout",
     "output_type": "stream",
     "text": [
      "[  2359712.95089947  26346286.81689404   1497951.83143031]\n",
      "[-2203.03281547   379.29435968 -3175.66552928]\n",
      "[[ 0.17097225 -0.54821006 -0.81867834]\n",
      " [ 0.96954238  0.24150858  0.04075765]\n",
      " [ 0.17537409 -0.80071177  0.57280415]]\n"
     ]
    }
   ],
   "source": [
    "#the vectors of position and velocity in NumPy\n",
    "pos_vec=np.array([ux, uy, 0.0])\n",
    "vel_vec=np.array([vx, vy, 0.0])\n",
    "\n",
    "#the rotation matrix of uom in NumPy\n",
    "rm_uom=np.array([[ cos(uom), sin(uom), 0.0],\n",
    "                 [-sin(uom), cos(uom), 0.0],\n",
    "                 [      0.0,      0.0, 1.0]])\n",
    "\n",
    "#the rotation matrix of i in NumPy\n",
    "rm_i=np.array([[1.0,     0.0,    0.0],\n",
    "               [0.0,  cos(i), sin(i)],\n",
    "               [0.0, -sin(i), cos(i)]])\n",
    "\n",
    "#the rotation matrix of lom in NumPy\n",
    "rm_lom=np.array([[ cos(lom), sin(lom), 0.0],\n",
    "                 [-sin(lom), cos(lom), 0.0],\n",
    "                 [      0.0,      0.0, 1.0]])\n",
    "\n",
    "#the resultant rotation matrix\n",
    "rm=rm_uom @ rm_i @ rm_lom\n",
    "\n",
    "#the satellite coordinates\n",
    "pos3d=rm @ pos_vec\n",
    "#the velocity vector coordinates\n",
    "vel3d=rm @ vel_vec\n",
    "\n",
    "print(pos3d)\n",
    "print(vel3d)\n",
    "print(rm)\n"
   ]
  }
 ],
 "metadata": {
  "kernelspec": {
   "display_name": "Python 3",
   "language": "python",
   "name": "python3"
  },
  "language_info": {
   "codemirror_mode": {
    "name": "ipython",
    "version": 3
   },
   "file_extension": ".py",
   "mimetype": "text/x-python",
   "name": "python",
   "nbconvert_exporter": "python",
   "pygments_lexer": "ipython3",
   "version": "3.6.9"
  }
 },
 "nbformat": 4,
 "nbformat_minor": 2
}
